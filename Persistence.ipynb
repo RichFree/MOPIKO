{
 "cells": [
  {
   "cell_type": "markdown",
   "metadata": {},
   "source": [
    "# Creating Persistence Score\n",
    "https://machinelearningmastery.com/persistence-time-series-forecasting-with-python/"
   ]
  },
  {
   "cell_type": "code",
   "execution_count": 1,
   "metadata": {},
   "outputs": [],
   "source": [
    "import pandas as pd\n",
    "import matplotlib.pyplot as plt\n",
    "from sklearn.metrics import mean_squared_error"
   ]
  },
  {
   "cell_type": "code",
   "execution_count": 5,
   "metadata": {},
   "outputs": [
    {
     "name": "stdout",
     "output_type": "stream",
     "text": [
      "          t       t+8\n",
      "0       NaN -0.132641\n",
      "1       NaN -0.151096\n",
      "2       NaN -0.122261\n",
      "3       NaN -0.114187\n",
      "4       NaN -0.113033\n",
      "5       NaN -0.144175\n",
      "6       NaN -0.128028\n",
      "7       NaN -0.154556\n",
      "8 -0.132641 -0.141869\n",
      "9 -0.151096 -0.141869\n"
     ]
    }
   ],
   "source": [
    "df = pd.read_csv('test.csv')\n",
    "series=df['T+8']\n",
    "# Create lagged dataset\n",
    "values = pd.DataFrame(series.values)\n",
    "dataframe = pd.concat([values.shift(8), values], axis=1)\n",
    "dataframe.columns = ['t', 't+8']\n",
    "print(dataframe.head(10))"
   ]
  },
  {
   "cell_type": "code",
   "execution_count": 6,
   "metadata": {},
   "outputs": [],
   "source": [
    "# split into train and test sets\n",
    "X = dataframe.values\n",
    "test_X, test_y = X[8:,0], X[8:,1]"
   ]
  },
  {
   "cell_type": "code",
   "execution_count": 7,
   "metadata": {},
   "outputs": [
    {
     "data": {
      "text/plain": [
       "array([-0.13264129, -0.15109573, -0.12226067, -0.11418685, -0.11303345,\n",
       "       -0.14417532, -0.12802768, -0.15455594, -0.14186851, -0.14186851,\n",
       "       -0.12918108, -0.11072664, -0.11418685, -0.11880046, -0.11072664,\n",
       "       -0.088812  , -0.07497117, -0.06805075, -0.07612457, -0.05305652,\n",
       "       -0.01614764,  0.03806228,  0.08189158,  0.0472895 ,  0.05536332,\n",
       "        0.00922722, -0.04152249,  0.07035756,  0.00922722, -0.01960784,\n",
       "       -0.0461361 , -0.07497117, -0.088812  , -0.08535179, -0.07612457,\n",
       "       -0.05651672, -0.0449827 , -0.01960784,  0.02306805,  0.13033449,\n",
       "        0.15570934,  0.23529412,  0.26182238,  0.26066897,  0.33794694,\n",
       "        0.29873126,  0.37254902,  0.48327566,  0.56516724,  0.5455594 ,\n",
       "        0.49711649,  0.49134948,  0.40253749,  0.40369089,  0.34832757,\n",
       "        0.27681661,  0.1799308 ,  0.16608997,  0.14648212,  0.10034602])"
      ]
     },
     "execution_count": 7,
     "metadata": {},
     "output_type": "execute_result"
    }
   ],
   "source": [
    "test_X"
   ]
  },
  {
   "cell_type": "code",
   "execution_count": 8,
   "metadata": {},
   "outputs": [
    {
     "data": {
      "text/plain": [
       "array([-0.14186851, -0.14186851, -0.12918108, -0.11072664, -0.11418685,\n",
       "       -0.11880046, -0.11072664, -0.088812  , -0.07497117, -0.06805075,\n",
       "       -0.07612457, -0.05305652, -0.01614764,  0.03806228,  0.08189158,\n",
       "        0.0472895 ,  0.05536332,  0.00922722, -0.04152249,  0.07035756,\n",
       "        0.00922722, -0.01960784, -0.0461361 , -0.07497117, -0.088812  ,\n",
       "       -0.08535179, -0.07612457, -0.05651672, -0.0449827 , -0.01960784,\n",
       "        0.02306805,  0.13033449,  0.15570934,  0.23529412,  0.26182238,\n",
       "        0.26066897,  0.33794694,  0.29873126,  0.37254902,  0.48327566,\n",
       "        0.56516724,  0.5455594 ,  0.49711649,  0.49134948,  0.40253749,\n",
       "        0.40369089,  0.34832757,  0.27681661,  0.1799308 ,  0.16608997,\n",
       "        0.14648212,  0.10034602,  0.08304498,  0.06228374,  0.07497117,\n",
       "        0.07843137,  0.15455594,  0.17070358,  0.22952711,  0.18454441])"
      ]
     },
     "execution_count": 8,
     "metadata": {},
     "output_type": "execute_result"
    }
   ],
   "source": [
    "test_y"
   ]
  },
  {
   "cell_type": "code",
   "execution_count": 9,
   "metadata": {},
   "outputs": [
    {
     "name": "stdout",
     "output_type": "stream",
     "text": [
      "Test MSE: 0.042\n"
     ]
    }
   ],
   "source": [
    "# persistence model\n",
    "def model_persistence(x):\n",
    "\treturn x\n",
    "\n",
    "# walk-forward validation\n",
    "predictions = list()\n",
    "for x in test_X:\n",
    "\tyhat = model_persistence(x)\n",
    "\tpredictions.append(yhat)\n",
    "test_score = mean_squared_error(test_y, predictions)\n",
    "print('Test MSE: %.3f' % test_score)"
   ]
  }
 ],
 "metadata": {
  "kernelspec": {
   "display_name": "Python [conda env:tfdeeplearning2] *",
   "language": "python",
   "name": "conda-env-tfdeeplearning2-py"
  },
  "language_info": {
   "codemirror_mode": {
    "name": "ipython",
    "version": 3
   },
   "file_extension": ".py",
   "mimetype": "text/x-python",
   "name": "python",
   "nbconvert_exporter": "python",
   "pygments_lexer": "ipython3",
   "version": "3.7.6"
  }
 },
 "nbformat": 4,
 "nbformat_minor": 4
}
