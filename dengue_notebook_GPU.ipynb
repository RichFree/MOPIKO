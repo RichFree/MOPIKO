{
 "cells": [
  {
   "cell_type": "markdown",
   "metadata": {},
   "source": [
    "# Just Run All! "
   ]
  },
  {
   "cell_type": "code",
   "execution_count": 1,
   "metadata": {},
   "outputs": [],
   "source": [
    "from __future__ import absolute_import, division, print_function, unicode_literals\n",
    "\n",
    "import pathlib\n",
    "\n",
    "import matplotlib.pyplot as plt\n",
    "import numpy as np\n",
    "import pandas as pd\n",
    "import seaborn as sns"
   ]
  },
  {
   "cell_type": "code",
   "execution_count": 2,
   "metadata": {},
   "outputs": [
    {
     "name": "stdout",
     "output_type": "stream",
     "text": [
      "2.0.0\n"
     ]
    }
   ],
   "source": [
    "import tensorflow as tf\n",
    "\n",
    "from tensorflow import keras\n",
    "from tensorflow.keras import layers\n",
    "\n",
    "print(tf.__version__)"
   ]
  },
  {
   "cell_type": "code",
   "execution_count": 3,
   "metadata": {},
   "outputs": [],
   "source": [
    "import tensorflow_docs as tfdocs\n",
    "import tensorflow_docs.plots\n",
    "import tensorflow_docs.modeling"
   ]
  },
  {
   "cell_type": "markdown",
   "metadata": {},
   "source": [
    "# Import data\n",
    "Note: please put train.csv and test.csv into the same directory as this iPython file\n",
    "\n",
    "Suggestion: \n",
    "\n",
    "Perhaps can use scikit learn to port over our data pre-processing into python? "
   ]
  },
  {
   "cell_type": "code",
   "execution_count": 4,
   "metadata": {},
   "outputs": [],
   "source": [
    "train_dataset = pd.read_csv('train.csv')\n",
    "test_dataset = pd.read_csv('test.csv')"
   ]
  },
  {
   "cell_type": "code",
   "execution_count": 5,
   "metadata": {
    "scrolled": true
   },
   "outputs": [
    {
     "data": {
      "text/html": [
       "<div>\n",
       "<style scoped>\n",
       "    .dataframe tbody tr th:only-of-type {\n",
       "        vertical-align: middle;\n",
       "    }\n",
       "\n",
       "    .dataframe tbody tr th {\n",
       "        vertical-align: top;\n",
       "    }\n",
       "\n",
       "    .dataframe thead th {\n",
       "        text-align: right;\n",
       "    }\n",
       "</style>\n",
       "<table border=\"1\" class=\"dataframe\">\n",
       "  <thead>\n",
       "    <tr style=\"text-align: right;\">\n",
       "      <th></th>\n",
       "      <th>T+8</th>\n",
       "      <th>T+0</th>\n",
       "      <th>T-1_T-4_DIFF_MEAN</th>\n",
       "      <th>T-9_T-12_DIFF_MEAN</th>\n",
       "      <th>T-1_T-4_DIFF_DIFF_MEAN</th>\n",
       "      <th>T-1_T-4_MEAN</th>\n",
       "      <th>T-5_T-8_MEAN</th>\n",
       "      <th>T-9_T-12_MEAN</th>\n",
       "      <th>POPULATION</th>\n",
       "      <th>RAIN_2_MAX</th>\n",
       "      <th>...</th>\n",
       "      <th>TEMP_2_-8_-12_MIN</th>\n",
       "      <th>TEMP_2_-8_-12_MEAN</th>\n",
       "      <th>TEMP_3_-4_-7_MIN</th>\n",
       "      <th>TEMP_3_-4_-7_MEAN</th>\n",
       "      <th>TEMP_3_-8_-12_MIN</th>\n",
       "      <th>TEMP_3_-8_-12_MEAN</th>\n",
       "      <th>TEMP_4_-4_-7_MIN</th>\n",
       "      <th>TEMP_4_-4_-7_MEAN</th>\n",
       "      <th>TEMP_4_-8_-12_MIN</th>\n",
       "      <th>TEMP_4_-8_-12_MEAN</th>\n",
       "    </tr>\n",
       "  </thead>\n",
       "  <tbody>\n",
       "    <tr>\n",
       "      <th>320</th>\n",
       "      <td>-0.168397</td>\n",
       "      <td>-0.141869</td>\n",
       "      <td>0.006151</td>\n",
       "      <td>0.009227</td>\n",
       "      <td>-0.004614</td>\n",
       "      <td>-0.161476</td>\n",
       "      <td>-0.133506</td>\n",
       "      <td>-0.140427</td>\n",
       "      <td>0.312796</td>\n",
       "      <td>0.306902</td>\n",
       "      <td>...</td>\n",
       "      <td>-0.072614</td>\n",
       "      <td>0.080083</td>\n",
       "      <td>0.141365</td>\n",
       "      <td>0.226737</td>\n",
       "      <td>-0.180771</td>\n",
       "      <td>-0.027350</td>\n",
       "      <td>0.143312</td>\n",
       "      <td>0.228186</td>\n",
       "      <td>-0.179630</td>\n",
       "      <td>-0.027677</td>\n",
       "    </tr>\n",
       "    <tr>\n",
       "      <th>321</th>\n",
       "      <td>-0.155709</td>\n",
       "      <td>-0.124567</td>\n",
       "      <td>0.004998</td>\n",
       "      <td>0.009612</td>\n",
       "      <td>0.008651</td>\n",
       "      <td>-0.153691</td>\n",
       "      <td>-0.148789</td>\n",
       "      <td>-0.129469</td>\n",
       "      <td>0.312996</td>\n",
       "      <td>0.306902</td>\n",
       "      <td>...</td>\n",
       "      <td>-0.116183</td>\n",
       "      <td>0.052282</td>\n",
       "      <td>-0.028383</td>\n",
       "      <td>0.184300</td>\n",
       "      <td>-0.180771</td>\n",
       "      <td>-0.006103</td>\n",
       "      <td>-0.025794</td>\n",
       "      <td>0.185909</td>\n",
       "      <td>-0.179630</td>\n",
       "      <td>-0.005890</td>\n",
       "    </tr>\n",
       "    <tr>\n",
       "      <th>322</th>\n",
       "      <td>-0.141869</td>\n",
       "      <td>-0.104960</td>\n",
       "      <td>0.012303</td>\n",
       "      <td>0.002691</td>\n",
       "      <td>0.005190</td>\n",
       "      <td>-0.145617</td>\n",
       "      <td>-0.155709</td>\n",
       "      <td>-0.126586</td>\n",
       "      <td>0.313939</td>\n",
       "      <td>0.306902</td>\n",
       "      <td>...</td>\n",
       "      <td>-0.184647</td>\n",
       "      <td>0.029876</td>\n",
       "      <td>-0.141916</td>\n",
       "      <td>0.075416</td>\n",
       "      <td>-0.180771</td>\n",
       "      <td>0.055756</td>\n",
       "      <td>-0.141782</td>\n",
       "      <td>0.077532</td>\n",
       "      <td>-0.179630</td>\n",
       "      <td>0.056997</td>\n",
       "    </tr>\n",
       "    <tr>\n",
       "      <th>323</th>\n",
       "      <td>-0.158016</td>\n",
       "      <td>-0.122261</td>\n",
       "      <td>0.016532</td>\n",
       "      <td>-0.007305</td>\n",
       "      <td>0.003460</td>\n",
       "      <td>-0.131488</td>\n",
       "      <td>-0.158593</td>\n",
       "      <td>-0.129758</td>\n",
       "      <td>0.315006</td>\n",
       "      <td>0.420707</td>\n",
       "      <td>...</td>\n",
       "      <td>-0.184647</td>\n",
       "      <td>0.019087</td>\n",
       "      <td>-0.141916</td>\n",
       "      <td>0.114309</td>\n",
       "      <td>-0.180771</td>\n",
       "      <td>0.095254</td>\n",
       "      <td>-0.141782</td>\n",
       "      <td>0.115891</td>\n",
       "      <td>-0.179630</td>\n",
       "      <td>0.096737</td>\n",
       "    </tr>\n",
       "    <tr>\n",
       "      <th>324</th>\n",
       "      <td>-0.155709</td>\n",
       "      <td>-0.138408</td>\n",
       "      <td>0.006536</td>\n",
       "      <td>-0.010381</td>\n",
       "      <td>-0.017301</td>\n",
       "      <td>-0.123414</td>\n",
       "      <td>-0.161476</td>\n",
       "      <td>-0.133506</td>\n",
       "      <td>0.316072</td>\n",
       "      <td>0.420707</td>\n",
       "      <td>...</td>\n",
       "      <td>-0.184647</td>\n",
       "      <td>-0.079668</td>\n",
       "      <td>-0.141916</td>\n",
       "      <td>0.058524</td>\n",
       "      <td>-0.033744</td>\n",
       "      <td>0.174641</td>\n",
       "      <td>-0.141782</td>\n",
       "      <td>0.059241</td>\n",
       "      <td>-0.026822</td>\n",
       "      <td>0.177184</td>\n",
       "    </tr>\n",
       "  </tbody>\n",
       "</table>\n",
       "<p>5 rows × 39 columns</p>\n",
       "</div>"
      ],
      "text/plain": [
       "          T+8       T+0  T-1_T-4_DIFF_MEAN  T-9_T-12_DIFF_MEAN  \\\n",
       "320 -0.168397 -0.141869           0.006151            0.009227   \n",
       "321 -0.155709 -0.124567           0.004998            0.009612   \n",
       "322 -0.141869 -0.104960           0.012303            0.002691   \n",
       "323 -0.158016 -0.122261           0.016532           -0.007305   \n",
       "324 -0.155709 -0.138408           0.006536           -0.010381   \n",
       "\n",
       "     T-1_T-4_DIFF_DIFF_MEAN  T-1_T-4_MEAN  T-5_T-8_MEAN  T-9_T-12_MEAN  \\\n",
       "320               -0.004614     -0.161476     -0.133506      -0.140427   \n",
       "321                0.008651     -0.153691     -0.148789      -0.129469   \n",
       "322                0.005190     -0.145617     -0.155709      -0.126586   \n",
       "323                0.003460     -0.131488     -0.158593      -0.129758   \n",
       "324               -0.017301     -0.123414     -0.161476      -0.133506   \n",
       "\n",
       "     POPULATION  RAIN_2_MAX  ...  TEMP_2_-8_-12_MIN  TEMP_2_-8_-12_MEAN  \\\n",
       "320    0.312796    0.306902  ...          -0.072614            0.080083   \n",
       "321    0.312996    0.306902  ...          -0.116183            0.052282   \n",
       "322    0.313939    0.306902  ...          -0.184647            0.029876   \n",
       "323    0.315006    0.420707  ...          -0.184647            0.019087   \n",
       "324    0.316072    0.420707  ...          -0.184647           -0.079668   \n",
       "\n",
       "     TEMP_3_-4_-7_MIN  TEMP_3_-4_-7_MEAN  TEMP_3_-8_-12_MIN  \\\n",
       "320          0.141365           0.226737          -0.180771   \n",
       "321         -0.028383           0.184300          -0.180771   \n",
       "322         -0.141916           0.075416          -0.180771   \n",
       "323         -0.141916           0.114309          -0.180771   \n",
       "324         -0.141916           0.058524          -0.033744   \n",
       "\n",
       "     TEMP_3_-8_-12_MEAN  TEMP_4_-4_-7_MIN  TEMP_4_-4_-7_MEAN  \\\n",
       "320           -0.027350          0.143312           0.228186   \n",
       "321           -0.006103         -0.025794           0.185909   \n",
       "322            0.055756         -0.141782           0.077532   \n",
       "323            0.095254         -0.141782           0.115891   \n",
       "324            0.174641         -0.141782           0.059241   \n",
       "\n",
       "     TEMP_4_-8_-12_MIN  TEMP_4_-8_-12_MEAN  \n",
       "320          -0.179630           -0.027677  \n",
       "321          -0.179630           -0.005890  \n",
       "322          -0.179630            0.056997  \n",
       "323          -0.179630            0.096737  \n",
       "324          -0.026822            0.177184  \n",
       "\n",
       "[5 rows x 39 columns]"
      ]
     },
     "execution_count": 5,
     "metadata": {},
     "output_type": "execute_result"
    }
   ],
   "source": [
    "train_dataset.tail()"
   ]
  },
  {
   "cell_type": "code",
   "execution_count": 6,
   "metadata": {
    "scrolled": true
   },
   "outputs": [],
   "source": [
    "# split features from labels \n",
    "# label = T=8\n",
    "train_labels = train_dataset.pop('T+8')\n",
    "test_labels = test_dataset.pop('T+8')"
   ]
  },
  {
   "cell_type": "code",
   "execution_count": 7,
   "metadata": {},
   "outputs": [],
   "source": [
    "#def norm(x):\n",
    "#  return (x - train_stats['mean']) / train_stats['std']\n",
    "#normed_train_data = norm(train_dataset)\n",
    "#normed_test_data = norm(test_dataset)\n",
    "\n",
    "# note that this data is cleaned by MOPIKO, so it's alr normalized\n",
    "normed_train_data = train_dataset\n",
    "normed_test_data = test_dataset"
   ]
  },
  {
   "cell_type": "code",
   "execution_count": 8,
   "metadata": {
    "scrolled": false
   },
   "outputs": [
    {
     "data": {
      "text/html": [
       "<div>\n",
       "<style scoped>\n",
       "    .dataframe tbody tr th:only-of-type {\n",
       "        vertical-align: middle;\n",
       "    }\n",
       "\n",
       "    .dataframe tbody tr th {\n",
       "        vertical-align: top;\n",
       "    }\n",
       "\n",
       "    .dataframe thead th {\n",
       "        text-align: right;\n",
       "    }\n",
       "</style>\n",
       "<table border=\"1\" class=\"dataframe\">\n",
       "  <thead>\n",
       "    <tr style=\"text-align: right;\">\n",
       "      <th></th>\n",
       "      <th>T+0</th>\n",
       "      <th>T-1_T-4_DIFF_MEAN</th>\n",
       "      <th>T-9_T-12_DIFF_MEAN</th>\n",
       "      <th>T-1_T-4_DIFF_DIFF_MEAN</th>\n",
       "      <th>T-1_T-4_MEAN</th>\n",
       "      <th>T-5_T-8_MEAN</th>\n",
       "      <th>T-9_T-12_MEAN</th>\n",
       "      <th>POPULATION</th>\n",
       "      <th>RAIN_2_MAX</th>\n",
       "      <th>RAIN_2_MEAN</th>\n",
       "      <th>...</th>\n",
       "      <th>TEMP_2_-8_-12_MIN</th>\n",
       "      <th>TEMP_2_-8_-12_MEAN</th>\n",
       "      <th>TEMP_3_-4_-7_MIN</th>\n",
       "      <th>TEMP_3_-4_-7_MEAN</th>\n",
       "      <th>TEMP_3_-8_-12_MIN</th>\n",
       "      <th>TEMP_3_-8_-12_MEAN</th>\n",
       "      <th>TEMP_4_-4_-7_MIN</th>\n",
       "      <th>TEMP_4_-4_-7_MEAN</th>\n",
       "      <th>TEMP_4_-8_-12_MIN</th>\n",
       "      <th>TEMP_4_-8_-12_MEAN</th>\n",
       "    </tr>\n",
       "  </thead>\n",
       "  <tbody>\n",
       "    <tr>\n",
       "      <th>320</th>\n",
       "      <td>-0.141869</td>\n",
       "      <td>0.006151</td>\n",
       "      <td>0.009227</td>\n",
       "      <td>-0.004614</td>\n",
       "      <td>-0.161476</td>\n",
       "      <td>-0.133506</td>\n",
       "      <td>-0.140427</td>\n",
       "      <td>0.312796</td>\n",
       "      <td>0.306902</td>\n",
       "      <td>0.046323</td>\n",
       "      <td>...</td>\n",
       "      <td>-0.072614</td>\n",
       "      <td>0.080083</td>\n",
       "      <td>0.141365</td>\n",
       "      <td>0.226737</td>\n",
       "      <td>-0.180771</td>\n",
       "      <td>-0.027350</td>\n",
       "      <td>0.143312</td>\n",
       "      <td>0.228186</td>\n",
       "      <td>-0.179630</td>\n",
       "      <td>-0.027677</td>\n",
       "    </tr>\n",
       "    <tr>\n",
       "      <th>321</th>\n",
       "      <td>-0.124567</td>\n",
       "      <td>0.004998</td>\n",
       "      <td>0.009612</td>\n",
       "      <td>0.008651</td>\n",
       "      <td>-0.153691</td>\n",
       "      <td>-0.148789</td>\n",
       "      <td>-0.129469</td>\n",
       "      <td>0.312996</td>\n",
       "      <td>0.306902</td>\n",
       "      <td>0.049712</td>\n",
       "      <td>...</td>\n",
       "      <td>-0.116183</td>\n",
       "      <td>0.052282</td>\n",
       "      <td>-0.028383</td>\n",
       "      <td>0.184300</td>\n",
       "      <td>-0.180771</td>\n",
       "      <td>-0.006103</td>\n",
       "      <td>-0.025794</td>\n",
       "      <td>0.185909</td>\n",
       "      <td>-0.179630</td>\n",
       "      <td>-0.005890</td>\n",
       "    </tr>\n",
       "    <tr>\n",
       "      <th>322</th>\n",
       "      <td>-0.104960</td>\n",
       "      <td>0.012303</td>\n",
       "      <td>0.002691</td>\n",
       "      <td>0.005190</td>\n",
       "      <td>-0.145617</td>\n",
       "      <td>-0.155709</td>\n",
       "      <td>-0.126586</td>\n",
       "      <td>0.313939</td>\n",
       "      <td>0.306902</td>\n",
       "      <td>0.127465</td>\n",
       "      <td>...</td>\n",
       "      <td>-0.184647</td>\n",
       "      <td>0.029876</td>\n",
       "      <td>-0.141916</td>\n",
       "      <td>0.075416</td>\n",
       "      <td>-0.180771</td>\n",
       "      <td>0.055756</td>\n",
       "      <td>-0.141782</td>\n",
       "      <td>0.077532</td>\n",
       "      <td>-0.179630</td>\n",
       "      <td>0.056997</td>\n",
       "    </tr>\n",
       "    <tr>\n",
       "      <th>323</th>\n",
       "      <td>-0.122261</td>\n",
       "      <td>0.016532</td>\n",
       "      <td>-0.007305</td>\n",
       "      <td>0.003460</td>\n",
       "      <td>-0.131488</td>\n",
       "      <td>-0.158593</td>\n",
       "      <td>-0.129758</td>\n",
       "      <td>0.315006</td>\n",
       "      <td>0.420707</td>\n",
       "      <td>0.155916</td>\n",
       "      <td>...</td>\n",
       "      <td>-0.184647</td>\n",
       "      <td>0.019087</td>\n",
       "      <td>-0.141916</td>\n",
       "      <td>0.114309</td>\n",
       "      <td>-0.180771</td>\n",
       "      <td>0.095254</td>\n",
       "      <td>-0.141782</td>\n",
       "      <td>0.115891</td>\n",
       "      <td>-0.179630</td>\n",
       "      <td>0.096737</td>\n",
       "    </tr>\n",
       "    <tr>\n",
       "      <th>324</th>\n",
       "      <td>-0.138408</td>\n",
       "      <td>0.006536</td>\n",
       "      <td>-0.010381</td>\n",
       "      <td>-0.017301</td>\n",
       "      <td>-0.123414</td>\n",
       "      <td>-0.161476</td>\n",
       "      <td>-0.133506</td>\n",
       "      <td>0.316072</td>\n",
       "      <td>0.420707</td>\n",
       "      <td>0.139071</td>\n",
       "      <td>...</td>\n",
       "      <td>-0.184647</td>\n",
       "      <td>-0.079668</td>\n",
       "      <td>-0.141916</td>\n",
       "      <td>0.058524</td>\n",
       "      <td>-0.033744</td>\n",
       "      <td>0.174641</td>\n",
       "      <td>-0.141782</td>\n",
       "      <td>0.059241</td>\n",
       "      <td>-0.026822</td>\n",
       "      <td>0.177184</td>\n",
       "    </tr>\n",
       "  </tbody>\n",
       "</table>\n",
       "<p>5 rows × 38 columns</p>\n",
       "</div>"
      ],
      "text/plain": [
       "          T+0  T-1_T-4_DIFF_MEAN  T-9_T-12_DIFF_MEAN  T-1_T-4_DIFF_DIFF_MEAN  \\\n",
       "320 -0.141869           0.006151            0.009227               -0.004614   \n",
       "321 -0.124567           0.004998            0.009612                0.008651   \n",
       "322 -0.104960           0.012303            0.002691                0.005190   \n",
       "323 -0.122261           0.016532           -0.007305                0.003460   \n",
       "324 -0.138408           0.006536           -0.010381               -0.017301   \n",
       "\n",
       "     T-1_T-4_MEAN  T-5_T-8_MEAN  T-9_T-12_MEAN  POPULATION  RAIN_2_MAX  \\\n",
       "320     -0.161476     -0.133506      -0.140427    0.312796    0.306902   \n",
       "321     -0.153691     -0.148789      -0.129469    0.312996    0.306902   \n",
       "322     -0.145617     -0.155709      -0.126586    0.313939    0.306902   \n",
       "323     -0.131488     -0.158593      -0.129758    0.315006    0.420707   \n",
       "324     -0.123414     -0.161476      -0.133506    0.316072    0.420707   \n",
       "\n",
       "     RAIN_2_MEAN  ...  TEMP_2_-8_-12_MIN  TEMP_2_-8_-12_MEAN  \\\n",
       "320     0.046323  ...          -0.072614            0.080083   \n",
       "321     0.049712  ...          -0.116183            0.052282   \n",
       "322     0.127465  ...          -0.184647            0.029876   \n",
       "323     0.155916  ...          -0.184647            0.019087   \n",
       "324     0.139071  ...          -0.184647           -0.079668   \n",
       "\n",
       "     TEMP_3_-4_-7_MIN  TEMP_3_-4_-7_MEAN  TEMP_3_-8_-12_MIN  \\\n",
       "320          0.141365           0.226737          -0.180771   \n",
       "321         -0.028383           0.184300          -0.180771   \n",
       "322         -0.141916           0.075416          -0.180771   \n",
       "323         -0.141916           0.114309          -0.180771   \n",
       "324         -0.141916           0.058524          -0.033744   \n",
       "\n",
       "     TEMP_3_-8_-12_MEAN  TEMP_4_-4_-7_MIN  TEMP_4_-4_-7_MEAN  \\\n",
       "320           -0.027350          0.143312           0.228186   \n",
       "321           -0.006103         -0.025794           0.185909   \n",
       "322            0.055756         -0.141782           0.077532   \n",
       "323            0.095254         -0.141782           0.115891   \n",
       "324            0.174641         -0.141782           0.059241   \n",
       "\n",
       "     TEMP_4_-8_-12_MIN  TEMP_4_-8_-12_MEAN  \n",
       "320          -0.179630           -0.027677  \n",
       "321          -0.179630           -0.005890  \n",
       "322          -0.179630            0.056997  \n",
       "323          -0.179630            0.096737  \n",
       "324          -0.026822            0.177184  \n",
       "\n",
       "[5 rows x 38 columns]"
      ]
     },
     "execution_count": 8,
     "metadata": {},
     "output_type": "execute_result"
    }
   ],
   "source": [
    "train_dataset.tail()"
   ]
  },
  {
   "cell_type": "code",
   "execution_count": 9,
   "metadata": {},
   "outputs": [
    {
     "data": {
      "text/plain": [
       "0     -0.129181\n",
       "1     -0.115340\n",
       "2     -0.124567\n",
       "3     -0.130334\n",
       "4     -0.140715\n",
       "         ...   \n",
       "320   -0.168397\n",
       "321   -0.155709\n",
       "322   -0.141869\n",
       "323   -0.158016\n",
       "324   -0.155709\n",
       "Name: T+8, Length: 325, dtype: float64"
      ]
     },
     "execution_count": 9,
     "metadata": {},
     "output_type": "execute_result"
    }
   ],
   "source": [
    "train_labels"
   ]
  },
  {
   "cell_type": "markdown",
   "metadata": {},
   "source": [
    "# Building the model\n"
   ]
  },
  {
   "cell_type": "markdown",
   "metadata": {},
   "source": [
    "## Loss\n",
    "This defines the Loss function. \n",
    "Keras only accepts yTrue (T+8) and yPredicted (predicted T+8 by model) as arguments. \n",
    "We cannot implement the MSE(yPredicted + Persistence, yTrue) as the Loss like autocaffe. "
   ]
  },
  {
   "cell_type": "code",
   "execution_count": 10,
   "metadata": {},
   "outputs": [],
   "source": [
    "# custom RMSE? \n",
    "def customLoss(yTrue,yPred):\n",
    "    return keras.backend.sqrt(keras.backend.mean(keras.backend.square(yPred - yTrue))) \n"
   ]
  },
  {
   "cell_type": "markdown",
   "metadata": {},
   "source": [
    "## Model Network Definition\n",
    "This section is the model building. \n",
    "This is a very naive and simple model. \n",
    "Suggestions: \n",
    "- perhaps we can build an LSTM network from keras docs? I'm not sure how to do it "
   ]
  },
  {
   "cell_type": "code",
   "execution_count": 24,
   "metadata": {},
   "outputs": [],
   "source": [
    "def build_model():\n",
    "  model = keras.Sequential([\n",
    "    layers.Dense(64, activation='sigmoid', input_shape=[len(train_dataset.keys())]),\n",
    "    layers.Dense(42, activation='relu'),\n",
    "    layers.Dense(28, activation='relu'),\n",
    "    layers.Dense(1, activation='linear')\n",
    "  ])\n",
    "\n",
    "  # optimizer = keras.optimizers.Adam(learning_rate=0.0001, beta_1=0.99, beta_2=0.999, epsilon=0, amsgrad=False)\n",
    "  \n",
    "    \n",
    "  model.compile(loss=customLoss,\n",
    "                optimizer='Adam',\n",
    "                metrics=['mae', 'mse'])\n",
    "  return model"
   ]
  },
  {
   "cell_type": "markdown",
   "metadata": {},
   "source": [
    "Uncomment below to get early stopping, although I just observe the test loss graph and adjust the EPOCH accordingly"
   ]
  },
  {
   "cell_type": "code",
   "execution_count": 25,
   "metadata": {},
   "outputs": [],
   "source": [
    "model = build_model()\n",
    "\n",
    "# The patience parameter is the amount of epochs to check for improvement\n",
    "# early_stop = keras.callbacks.EarlyStopping(monitor='val_loss', patience=50)\n",
    "\n",
    "# early_history = model.fit(normed_train_data, train_labels, \n",
    "#                    epochs=EPOCHS, validation_split = 0.2, verbose=0, \n",
    "#                    callbacks=[early_stop, tfdocs.modeling.EpochDots()])"
   ]
  },
  {
   "cell_type": "markdown",
   "metadata": {},
   "source": [
    "## Early Model Check \n",
    "This segment checks if model can be trained on a sequence of 10 instances - to see if the model is functional without running the full training. "
   ]
  },
  {
   "cell_type": "code",
   "execution_count": 26,
   "metadata": {},
   "outputs": [
    {
     "name": "stdout",
     "output_type": "stream",
     "text": [
      "WARNING:tensorflow:Falling back from v2 loop because of error: Failed to find data adapter that can handle input: <class 'pandas.core.frame.DataFrame'>, <class 'NoneType'>\n"
     ]
    },
    {
     "data": {
      "text/plain": [
       "array([[0.29333812],\n",
       "       [0.29219186],\n",
       "       [0.29348987],\n",
       "       [0.28795642],\n",
       "       [0.28731784],\n",
       "       [0.29193953],\n",
       "       [0.29222488],\n",
       "       [0.25901955],\n",
       "       [0.2683805 ],\n",
       "       [0.2673048 ]], dtype=float32)"
      ]
     },
     "execution_count": 26,
     "metadata": {},
     "output_type": "execute_result"
    }
   ],
   "source": [
    "# testing out the model\n",
    "\n",
    "example_batch = normed_train_data[:10]\n",
    "example_result = model.predict(example_batch)\n",
    "    \n",
    "example_result    "
   ]
  },
  {
   "cell_type": "markdown",
   "metadata": {},
   "source": [
    "# Actual Training"
   ]
  },
  {
   "cell_type": "code",
   "execution_count": 27,
   "metadata": {
    "scrolled": false
   },
   "outputs": [
    {
     "name": "stdout",
     "output_type": "stream",
     "text": [
      "WARNING:tensorflow:Falling back from v2 loop because of error: Failed to find data adapter that can handle input: <class 'pandas.core.frame.DataFrame'>, <class 'NoneType'>\n",
      "\n",
      "Epoch: 0, loss:0.2169,  mae:0.1715,  mse:0.0483,  val_loss:0.2589,  val_mae:0.2584,  val_mse:0.0670,  \n",
      "....................................................................................................\n",
      "Epoch: 100, loss:0.0975,  mae:0.0751,  mse:0.0100,  val_loss:0.0496,  val_mae:0.0386,  val_mse:0.0025,  \n",
      "....................................................................................................\n",
      "Epoch: 200, loss:0.0657,  mae:0.0502,  mse:0.0045,  val_loss:0.0432,  val_mae:0.0382,  val_mse:0.0019,  \n",
      "....................................................................................................\n",
      "Epoch: 300, loss:0.0632,  mae:0.0494,  mse:0.0041,  val_loss:0.0600,  val_mae:0.0514,  val_mse:0.0036,  \n",
      "....................................................................................................\n",
      "Epoch: 400, loss:0.0477,  mae:0.0354,  mse:0.0023,  val_loss:0.0644,  val_mae:0.0557,  val_mse:0.0042,  \n",
      "...................................................................................................."
     ]
    }
   ],
   "source": [
    "EPOCHS = 500 # this sets how many repeats to train sequentially \n",
    "\n",
    "history = model.fit(normed_train_data, train_labels,\n",
    "  epochs=EPOCHS, validation_split = 0.15, verbose=0,\n",
    "  # callbacks=[early_stop, tfdocs.modeling.EpochDots()]) # this section includes the early stop \n",
    "    callbacks=[tfdocs.modeling.EpochDots()])\n"
   ]
  },
  {
   "cell_type": "code",
   "execution_count": 28,
   "metadata": {},
   "outputs": [
    {
     "data": {
      "text/html": [
       "<div>\n",
       "<style scoped>\n",
       "    .dataframe tbody tr th:only-of-type {\n",
       "        vertical-align: middle;\n",
       "    }\n",
       "\n",
       "    .dataframe tbody tr th {\n",
       "        vertical-align: top;\n",
       "    }\n",
       "\n",
       "    .dataframe thead th {\n",
       "        text-align: right;\n",
       "    }\n",
       "</style>\n",
       "<table border=\"1\" class=\"dataframe\">\n",
       "  <thead>\n",
       "    <tr style=\"text-align: right;\">\n",
       "      <th></th>\n",
       "      <th>loss</th>\n",
       "      <th>mae</th>\n",
       "      <th>mse</th>\n",
       "      <th>val_loss</th>\n",
       "      <th>val_mae</th>\n",
       "      <th>val_mse</th>\n",
       "      <th>epoch</th>\n",
       "    </tr>\n",
       "  </thead>\n",
       "  <tbody>\n",
       "    <tr>\n",
       "      <th>495</th>\n",
       "      <td>0.041666</td>\n",
       "      <td>0.031311</td>\n",
       "      <td>0.001787</td>\n",
       "      <td>0.062786</td>\n",
       "      <td>0.055392</td>\n",
       "      <td>0.003944</td>\n",
       "      <td>495</td>\n",
       "    </tr>\n",
       "    <tr>\n",
       "      <th>496</th>\n",
       "      <td>0.042580</td>\n",
       "      <td>0.032633</td>\n",
       "      <td>0.001857</td>\n",
       "      <td>0.064195</td>\n",
       "      <td>0.053779</td>\n",
       "      <td>0.004134</td>\n",
       "      <td>496</td>\n",
       "    </tr>\n",
       "    <tr>\n",
       "      <th>497</th>\n",
       "      <td>0.043121</td>\n",
       "      <td>0.032858</td>\n",
       "      <td>0.001900</td>\n",
       "      <td>0.074309</td>\n",
       "      <td>0.063008</td>\n",
       "      <td>0.005577</td>\n",
       "      <td>497</td>\n",
       "    </tr>\n",
       "    <tr>\n",
       "      <th>498</th>\n",
       "      <td>0.043244</td>\n",
       "      <td>0.033070</td>\n",
       "      <td>0.001906</td>\n",
       "      <td>0.058769</td>\n",
       "      <td>0.050003</td>\n",
       "      <td>0.003459</td>\n",
       "      <td>498</td>\n",
       "    </tr>\n",
       "    <tr>\n",
       "      <th>499</th>\n",
       "      <td>0.040478</td>\n",
       "      <td>0.031064</td>\n",
       "      <td>0.001722</td>\n",
       "      <td>0.070306</td>\n",
       "      <td>0.059059</td>\n",
       "      <td>0.004945</td>\n",
       "      <td>499</td>\n",
       "    </tr>\n",
       "  </tbody>\n",
       "</table>\n",
       "</div>"
      ],
      "text/plain": [
       "         loss       mae       mse  val_loss   val_mae   val_mse  epoch\n",
       "495  0.041666  0.031311  0.001787  0.062786  0.055392  0.003944    495\n",
       "496  0.042580  0.032633  0.001857  0.064195  0.053779  0.004134    496\n",
       "497  0.043121  0.032858  0.001900  0.074309  0.063008  0.005577    497\n",
       "498  0.043244  0.033070  0.001906  0.058769  0.050003  0.003459    498\n",
       "499  0.040478  0.031064  0.001722  0.070306  0.059059  0.004945    499"
      ]
     },
     "execution_count": 28,
     "metadata": {},
     "output_type": "execute_result"
    }
   ],
   "source": [
    "hist = pd.DataFrame(history.history)\n",
    "hist['epoch'] = history.epoch\n",
    "hist.tail()"
   ]
  },
  {
   "cell_type": "code",
   "execution_count": 29,
   "metadata": {},
   "outputs": [],
   "source": [
    "plotter = tfdocs.plots.HistoryPlotter(smoothing_std=2)"
   ]
  },
  {
   "cell_type": "markdown",
   "metadata": {},
   "source": [
    "# Test Loss Graph"
   ]
  },
  {
   "cell_type": "code",
   "execution_count": 30,
   "metadata": {},
   "outputs": [
    {
     "data": {
      "text/plain": [
       "Text(0, 0.5, 'MSE [T+8^2]')"
      ]
     },
     "execution_count": 30,
     "metadata": {},
     "output_type": "execute_result"
    },
    {
     "data": {
      "image/png": "[encoded data removed]",
      "text/plain": [
       "<Figure size 432x288 with 1 Axes>"
      ]
     },
     "metadata": {
      "needs_background": "light"
     },
     "output_type": "display_data"
    }
   ],
   "source": [
    "plotter.plot({'Basic': history}, metric = \"mse\")\n",
    "plt.ylim([0, 0.04])\n",
    "plt.ylabel('MSE [T+8^2]')"
   ]
  },
  {
   "cell_type": "markdown",
   "metadata": {},
   "source": [
    "# Results"
   ]
  },
  {
   "cell_type": "code",
   "execution_count": 31,
   "metadata": {},
   "outputs": [
    {
     "name": "stdout",
     "output_type": "stream",
     "text": [
      "WARNING:tensorflow:Falling back from v2 loop because of error: Failed to find data adapter that can handle input: <class 'pandas.core.frame.DataFrame'>, <class 'NoneType'>\n",
      "68/68 - 0s - loss: 0.1549 - mae: 0.1211 - mse: 0.0252\n",
      "Testing set MSE: 0.0252225939 T+8\n"
     ]
    }
   ],
   "source": [
    "loss, mae, mse = model.evaluate(normed_test_data, test_labels, verbose=2)\n",
    "\n",
    "print(\"Testing set MSE: {:5.10f} T+8\".format(mse))"
   ]
  },
  {
   "cell_type": "markdown",
   "metadata": {},
   "source": [
    "# Making Predictions"
   ]
  },
  {
   "cell_type": "markdown",
   "metadata": {},
   "source": [
    "## scatter plot to test predictions"
   ]
  },
  {
   "cell_type": "code",
   "execution_count": 32,
   "metadata": {},
   "outputs": [
    {
     "name": "stdout",
     "output_type": "stream",
     "text": [
      "WARNING:tensorflow:Falling back from v2 loop because of error: Failed to find data adapter that can handle input: <class 'pandas.core.frame.DataFrame'>, <class 'NoneType'>\n"
     ]
    },
    {
     "data": {
      "image/png": "[encoded data removed]",
      "text/plain": [
       "<Figure size 432x288 with 1 Axes>"
      ]
     },
     "metadata": {
      "needs_background": "light"
     },
     "output_type": "display_data"
    }
   ],
   "source": [
    "test_predictions = model.predict(normed_test_data).flatten()\n",
    "\n",
    "a = plt.axes(aspect='equal')\n",
    "plt.scatter(test_labels, test_predictions)\n",
    "plt.xlabel('True Values [T+8]')\n",
    "plt.ylabel('Predictions [T+8]')\n",
    "lims = [-0.2, 0.8]\n",
    "plt.xlim(lims)\n",
    "plt.ylim(lims)\n",
    "_ = plt.plot(lims, lims)\n"
   ]
  },
  {
   "cell_type": "markdown",
   "metadata": {},
   "source": [
    "## Actual (blue) vs Model (orange) on training data "
   ]
  },
  {
   "cell_type": "code",
   "execution_count": 33,
   "metadata": {},
   "outputs": [
    {
     "name": "stdout",
     "output_type": "stream",
     "text": [
      "WARNING:tensorflow:Falling back from v2 loop because of error: Failed to find data adapter that can handle input: <class 'pandas.core.frame.DataFrame'>, <class 'NoneType'>\n"
     ]
    },
    {
     "data": {
      "text/plain": [
       "[<matplotlib.lines.Line2D at 0x28b0d6e9e08>]"
      ]
     },
     "execution_count": 33,
     "metadata": {},
     "output_type": "execute_result"
    },
    {
     "data": {
      "image/png": "[encoded data removed]",
      "text/plain": [
       "<Figure size 432x288 with 1 Axes>"
      ]
     },
     "metadata": {
      "needs_background": "light"
     },
     "output_type": "display_data"
    }
   ],
   "source": [
    "plt.plot(train_labels)\n",
    "plt.plot(model.predict(normed_train_data).flatten())"
   ]
  },
  {
   "cell_type": "markdown",
   "metadata": {},
   "source": [
    "## Actual (blue) vs Model (orange) on test data"
   ]
  },
  {
   "cell_type": "code",
   "execution_count": 34,
   "metadata": {},
   "outputs": [
    {
     "data": {
      "text/plain": [
       "[<matplotlib.lines.Line2D at 0x28b0d6ddbc8>]"
      ]
     },
     "execution_count": 34,
     "metadata": {},
     "output_type": "execute_result"
    },
    {
     "data": {
      "image/png": "[encoded data removed]",
      "text/plain": [
       "<Figure size 432x288 with 1 Axes>"
      ]
     },
     "metadata": {
      "needs_background": "light"
     },
     "output_type": "display_data"
    }
   ],
   "source": [
    "plt.plot(test_labels)\n",
    "plt.plot(test_predictions)"
   ]
  },
  {
   "cell_type": "code",
   "execution_count": 35,
   "metadata": {},
   "outputs": [
    {
     "data": {
      "image/png": "[encoded data removed]",
      "text/plain": [
       "<Figure size 432x288 with 1 Axes>"
      ]
     },
     "metadata": {
      "needs_background": "light"
     },
     "output_type": "display_data"
    }
   ],
   "source": [
    "error = test_predictions - test_labels\n",
    "plt.hist(error, bins = 25)\n",
    "plt.xlabel(\"Prediction Error [T=8]\")\n",
    "_ = plt.ylabel(\"Count\")"
   ]
  },
  {
   "cell_type": "markdown",
   "metadata": {},
   "source": [
    "## Lagged Correlation plot"
   ]
  },
  {
   "cell_type": "code",
   "execution_count": 36,
   "metadata": {},
   "outputs": [
    {
     "data": {
      "text/plain": [
       "(array([-10,  -9,  -8,  -7,  -6,  -5,  -4,  -3,  -2,  -1,   0,   1,   2,\n",
       "          3,   4,   5,   6,   7,   8,   9,  10]),\n",
       " array([0.47131887, 0.5011672 , 0.5393666 , 0.5896271 , 0.65669537,\n",
       "        0.71525276, 0.77188444, 0.83360004, 0.8933693 , 0.9508434 ,\n",
       "        1.        , 0.9508434 , 0.8933693 , 0.83360004, 0.77188444,\n",
       "        0.71525276, 0.65669537, 0.5896271 , 0.5393666 , 0.5011672 ,\n",
       "        0.47131887], dtype=float32),\n",
       " <matplotlib.collections.LineCollection at 0x28b0d88b3c8>,\n",
       " <matplotlib.lines.Line2D at 0x28b0d811488>)"
      ]
     },
     "execution_count": 36,
     "metadata": {},
     "output_type": "execute_result"
    },
    {
     "data": {
      "image/png": "[encoded data removed]",
      "text/plain": [
       "<Figure size 432x288 with 1 Axes>"
      ]
     },
     "metadata": {
      "needs_background": "light"
     },
     "output_type": "display_data"
    }
   ],
   "source": [
    "plt.acorr(test_predictions)"
   ]
  }
 ],
 "metadata": {
  "kernelspec": {
   "display_name": "Python [conda env:tfdeeplearning2] *",
   "language": "python",
   "name": "conda-env-tfdeeplearning2-py"
  },
  "language_info": {
   "codemirror_mode": {
    "name": "ipython",
    "version": 3
   },
   "file_extension": ".py",
   "mimetype": "text/x-python",
   "name": "python",
   "nbconvert_exporter": "python",
   "pygments_lexer": "ipython3",
   "version": "3.7.6"
  }
 },
 "nbformat": 4,
 "nbformat_minor": 4
}
