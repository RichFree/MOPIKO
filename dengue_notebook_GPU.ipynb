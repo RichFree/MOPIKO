{
 "cells": [
  {
   "cell_type": "markdown",
   "metadata": {},
   "source": [
    "# Just Run All! "
   ]
  },
  {
   "cell_type": "code",
   "execution_count": 1,
   "metadata": {},
   "outputs": [],
   "source": [
    "from __future__ import absolute_import, division, print_function, unicode_literals\n",
    "\n",
    "import pathlib\n",
    "\n",
    "import matplotlib.pyplot as plt\n",
    "import numpy as np\n",
    "import pandas as pd\n",
    "import seaborn as sns"
   ]
  },
  {
   "cell_type": "code",
   "execution_count": 2,
   "metadata": {},
   "outputs": [
    {
     "name": "stdout",
     "output_type": "stream",
     "text": [
      "2.0.0\n"
     ]
    }
   ],
   "source": [
    "import tensorflow as tf\n",
    "\n",
    "from tensorflow import keras\n",
    "from tensorflow.keras import layers\n",
    "\n",
    "print(tf.__version__)"
   ]
  },
  {
   "cell_type": "code",
   "execution_count": 3,
   "metadata": {},
   "outputs": [],
   "source": [
    "import tensorflow_docs as tfdocs\n",
    "import tensorflow_docs.plots\n",
    "import tensorflow_docs.modeling"
   ]
  },
  {
   "cell_type": "markdown",
   "metadata": {},
   "source": [
    "# Import data\n",
    "Note: please put train.csv and test.csv into the same directory as this iPython file\n",
    "\n",
    "Suggestion: \n",
    "\n",
    "Perhaps can use scikit learn to port over our data pre-processing into python? "
   ]
  },
  {
   "cell_type": "code",
   "execution_count": 4,
   "metadata": {},
   "outputs": [],
   "source": [
    "train_dataset = pd.read_csv('train.csv')\n",
    "test_dataset = pd.read_csv('test.csv')"
   ]
  },
  {
   "cell_type": "code",
   "execution_count": 5,
   "metadata": {
    "scrolled": true
   },
   "outputs": [
    {
     "data": {
      "text/html": [
       "<div>\n",
       "<style scoped>\n",
       "    .dataframe tbody tr th:only-of-type {\n",
       "        vertical-align: middle;\n",
       "    }\n",
       "\n",
       "    .dataframe tbody tr th {\n",
       "        vertical-align: top;\n",
       "    }\n",
       "\n",
       "    .dataframe thead th {\n",
       "        text-align: right;\n",
       "    }\n",
       "</style>\n",
       "<table border=\"1\" class=\"dataframe\">\n",
       "  <thead>\n",
       "    <tr style=\"text-align: right;\">\n",
       "      <th></th>\n",
       "      <th>T+8</th>\n",
       "      <th>T+0</th>\n",
       "      <th>T-1_T-4_DIFF_MEAN</th>\n",
       "      <th>T-9_T-12_DIFF_MEAN</th>\n",
       "      <th>T-1_T-4_DIFF_DIFF_MEAN</th>\n",
       "      <th>T-1_T-4_MEAN</th>\n",
       "      <th>T-5_T-8_MEAN</th>\n",
       "      <th>T-9_T-12_MEAN</th>\n",
       "      <th>POPULATION</th>\n",
       "      <th>RAIN_2_MAX</th>\n",
       "      <th>...</th>\n",
       "      <th>TEMP_2_-8_-12_MIN</th>\n",
       "      <th>TEMP_2_-8_-12_MEAN</th>\n",
       "      <th>TEMP_3_-4_-7_MIN</th>\n",
       "      <th>TEMP_3_-4_-7_MEAN</th>\n",
       "      <th>TEMP_3_-8_-12_MIN</th>\n",
       "      <th>TEMP_3_-8_-12_MEAN</th>\n",
       "      <th>TEMP_4_-4_-7_MIN</th>\n",
       "      <th>TEMP_4_-4_-7_MEAN</th>\n",
       "      <th>TEMP_4_-8_-12_MIN</th>\n",
       "      <th>TEMP_4_-8_-12_MEAN</th>\n",
       "    </tr>\n",
       "  </thead>\n",
       "  <tbody>\n",
       "    <tr>\n",
       "      <th>320</th>\n",
       "      <td>-0.168397</td>\n",
       "      <td>-0.141869</td>\n",
       "      <td>0.006151</td>\n",
       "      <td>0.009227</td>\n",
       "      <td>-0.004614</td>\n",
       "      <td>-0.161476</td>\n",
       "      <td>-0.133506</td>\n",
       "      <td>-0.140427</td>\n",
       "      <td>0.312796</td>\n",
       "      <td>0.306902</td>\n",
       "      <td>...</td>\n",
       "      <td>-0.072614</td>\n",
       "      <td>0.080083</td>\n",
       "      <td>0.141365</td>\n",
       "      <td>0.226737</td>\n",
       "      <td>-0.180771</td>\n",
       "      <td>-0.027350</td>\n",
       "      <td>0.143312</td>\n",
       "      <td>0.228186</td>\n",
       "      <td>-0.179630</td>\n",
       "      <td>-0.027677</td>\n",
       "    </tr>\n",
       "    <tr>\n",
       "      <th>321</th>\n",
       "      <td>-0.155709</td>\n",
       "      <td>-0.124567</td>\n",
       "      <td>0.004998</td>\n",
       "      <td>0.009612</td>\n",
       "      <td>0.008651</td>\n",
       "      <td>-0.153691</td>\n",
       "      <td>-0.148789</td>\n",
       "      <td>-0.129469</td>\n",
       "      <td>0.312996</td>\n",
       "      <td>0.306902</td>\n",
       "      <td>...</td>\n",
       "      <td>-0.116183</td>\n",
       "      <td>0.052282</td>\n",
       "      <td>-0.028383</td>\n",
       "      <td>0.184300</td>\n",
       "      <td>-0.180771</td>\n",
       "      <td>-0.006103</td>\n",
       "      <td>-0.025794</td>\n",
       "      <td>0.185909</td>\n",
       "      <td>-0.179630</td>\n",
       "      <td>-0.005890</td>\n",
       "    </tr>\n",
       "    <tr>\n",
       "      <th>322</th>\n",
       "      <td>-0.141869</td>\n",
       "      <td>-0.104960</td>\n",
       "      <td>0.012303</td>\n",
       "      <td>0.002691</td>\n",
       "      <td>0.005190</td>\n",
       "      <td>-0.145617</td>\n",
       "      <td>-0.155709</td>\n",
       "      <td>-0.126586</td>\n",
       "      <td>0.313939</td>\n",
       "      <td>0.306902</td>\n",
       "      <td>...</td>\n",
       "      <td>-0.184647</td>\n",
       "      <td>0.029876</td>\n",
       "      <td>-0.141916</td>\n",
       "      <td>0.075416</td>\n",
       "      <td>-0.180771</td>\n",
       "      <td>0.055756</td>\n",
       "      <td>-0.141782</td>\n",
       "      <td>0.077532</td>\n",
       "      <td>-0.179630</td>\n",
       "      <td>0.056997</td>\n",
       "    </tr>\n",
       "    <tr>\n",
       "      <th>323</th>\n",
       "      <td>-0.158016</td>\n",
       "      <td>-0.122261</td>\n",
       "      <td>0.016532</td>\n",
       "      <td>-0.007305</td>\n",
       "      <td>0.003460</td>\n",
       "      <td>-0.131488</td>\n",
       "      <td>-0.158593</td>\n",
       "      <td>-0.129758</td>\n",
       "      <td>0.315006</td>\n",
       "      <td>0.420707</td>\n",
       "      <td>...</td>\n",
       "      <td>-0.184647</td>\n",
       "      <td>0.019087</td>\n",
       "      <td>-0.141916</td>\n",
       "      <td>0.114309</td>\n",
       "      <td>-0.180771</td>\n",
       "      <td>0.095254</td>\n",
       "      <td>-0.141782</td>\n",
       "      <td>0.115891</td>\n",
       "      <td>-0.179630</td>\n",
       "      <td>0.096737</td>\n",
       "    </tr>\n",
       "    <tr>\n",
       "      <th>324</th>\n",
       "      <td>-0.155709</td>\n",
       "      <td>-0.138408</td>\n",
       "      <td>0.006536</td>\n",
       "      <td>-0.010381</td>\n",
       "      <td>-0.017301</td>\n",
       "      <td>-0.123414</td>\n",
       "      <td>-0.161476</td>\n",
       "      <td>-0.133506</td>\n",
       "      <td>0.316072</td>\n",
       "      <td>0.420707</td>\n",
       "      <td>...</td>\n",
       "      <td>-0.184647</td>\n",
       "      <td>-0.079668</td>\n",
       "      <td>-0.141916</td>\n",
       "      <td>0.058524</td>\n",
       "      <td>-0.033744</td>\n",
       "      <td>0.174641</td>\n",
       "      <td>-0.141782</td>\n",
       "      <td>0.059241</td>\n",
       "      <td>-0.026822</td>\n",
       "      <td>0.177184</td>\n",
       "    </tr>\n",
       "  </tbody>\n",
       "</table>\n",
       "<p>5 rows × 39 columns</p>\n",
       "</div>"
      ],
      "text/plain": [
       "          T+8       T+0  T-1_T-4_DIFF_MEAN  T-9_T-12_DIFF_MEAN  \\\n",
       "320 -0.168397 -0.141869           0.006151            0.009227   \n",
       "321 -0.155709 -0.124567           0.004998            0.009612   \n",
       "322 -0.141869 -0.104960           0.012303            0.002691   \n",
       "323 -0.158016 -0.122261           0.016532           -0.007305   \n",
       "324 -0.155709 -0.138408           0.006536           -0.010381   \n",
       "\n",
       "     T-1_T-4_DIFF_DIFF_MEAN  T-1_T-4_MEAN  T-5_T-8_MEAN  T-9_T-12_MEAN  \\\n",
       "320               -0.004614     -0.161476     -0.133506      -0.140427   \n",
       "321                0.008651     -0.153691     -0.148789      -0.129469   \n",
       "322                0.005190     -0.145617     -0.155709      -0.126586   \n",
       "323                0.003460     -0.131488     -0.158593      -0.129758   \n",
       "324               -0.017301     -0.123414     -0.161476      -0.133506   \n",
       "\n",
       "     POPULATION  RAIN_2_MAX  ...  TEMP_2_-8_-12_MIN  TEMP_2_-8_-12_MEAN  \\\n",
       "320    0.312796    0.306902  ...          -0.072614            0.080083   \n",
       "321    0.312996    0.306902  ...          -0.116183            0.052282   \n",
       "322    0.313939    0.306902  ...          -0.184647            0.029876   \n",
       "323    0.315006    0.420707  ...          -0.184647            0.019087   \n",
       "324    0.316072    0.420707  ...          -0.184647           -0.079668   \n",
       "\n",
       "     TEMP_3_-4_-7_MIN  TEMP_3_-4_-7_MEAN  TEMP_3_-8_-12_MIN  \\\n",
       "320          0.141365           0.226737          -0.180771   \n",
       "321         -0.028383           0.184300          -0.180771   \n",
       "322         -0.141916           0.075416          -0.180771   \n",
       "323         -0.141916           0.114309          -0.180771   \n",
       "324         -0.141916           0.058524          -0.033744   \n",
       "\n",
       "     TEMP_3_-8_-12_MEAN  TEMP_4_-4_-7_MIN  TEMP_4_-4_-7_MEAN  \\\n",
       "320           -0.027350          0.143312           0.228186   \n",
       "321           -0.006103         -0.025794           0.185909   \n",
       "322            0.055756         -0.141782           0.077532   \n",
       "323            0.095254         -0.141782           0.115891   \n",
       "324            0.174641         -0.141782           0.059241   \n",
       "\n",
       "     TEMP_4_-8_-12_MIN  TEMP_4_-8_-12_MEAN  \n",
       "320          -0.179630           -0.027677  \n",
       "321          -0.179630           -0.005890  \n",
       "322          -0.179630            0.056997  \n",
       "323          -0.179630            0.096737  \n",
       "324          -0.026822            0.177184  \n",
       "\n",
       "[5 rows x 39 columns]"
      ]
     },
     "execution_count": 5,
     "metadata": {},
     "output_type": "execute_result"
    }
   ],
   "source": [
    "train_dataset.tail()"
   ]
  },
  {
   "cell_type": "code",
   "execution_count": 6,
   "metadata": {
    "scrolled": true
   },
   "outputs": [],
   "source": [
    "# split features from labels \n",
    "# label = T=8\n",
    "train_labels = train_dataset.pop('T+8')\n",
    "test_labels = test_dataset.pop('T+8')"
   ]
  },
  {
   "cell_type": "code",
   "execution_count": 7,
   "metadata": {},
   "outputs": [],
   "source": [
    "#def norm(x):\n",
    "#  return (x - train_stats['mean']) / train_stats['std']\n",
    "#normed_train_data = norm(train_dataset)\n",
    "#normed_test_data = norm(test_dataset)\n",
    "\n",
    "# note that this data is cleaned by MOPIKO, so it's alr normalized\n",
    "normed_train_data = train_dataset\n",
    "normed_test_data = test_dataset"
   ]
  },
  {
   "cell_type": "code",
   "execution_count": 8,
   "metadata": {
    "scrolled": false
   },
   "outputs": [
    {
     "data": {
      "text/html": [
       "<div>\n",
       "<style scoped>\n",
       "    .dataframe tbody tr th:only-of-type {\n",
       "        vertical-align: middle;\n",
       "    }\n",
       "\n",
       "    .dataframe tbody tr th {\n",
       "        vertical-align: top;\n",
       "    }\n",
       "\n",
       "    .dataframe thead th {\n",
       "        text-align: right;\n",
       "    }\n",
       "</style>\n",
       "<table border=\"1\" class=\"dataframe\">\n",
       "  <thead>\n",
       "    <tr style=\"text-align: right;\">\n",
       "      <th></th>\n",
       "      <th>T+0</th>\n",
       "      <th>T-1_T-4_DIFF_MEAN</th>\n",
       "      <th>T-9_T-12_DIFF_MEAN</th>\n",
       "      <th>T-1_T-4_DIFF_DIFF_MEAN</th>\n",
       "      <th>T-1_T-4_MEAN</th>\n",
       "      <th>T-5_T-8_MEAN</th>\n",
       "      <th>T-9_T-12_MEAN</th>\n",
       "      <th>POPULATION</th>\n",
       "      <th>RAIN_2_MAX</th>\n",
       "      <th>RAIN_2_MEAN</th>\n",
       "      <th>...</th>\n",
       "      <th>TEMP_2_-8_-12_MIN</th>\n",
       "      <th>TEMP_2_-8_-12_MEAN</th>\n",
       "      <th>TEMP_3_-4_-7_MIN</th>\n",
       "      <th>TEMP_3_-4_-7_MEAN</th>\n",
       "      <th>TEMP_3_-8_-12_MIN</th>\n",
       "      <th>TEMP_3_-8_-12_MEAN</th>\n",
       "      <th>TEMP_4_-4_-7_MIN</th>\n",
       "      <th>TEMP_4_-4_-7_MEAN</th>\n",
       "      <th>TEMP_4_-8_-12_MIN</th>\n",
       "      <th>TEMP_4_-8_-12_MEAN</th>\n",
       "    </tr>\n",
       "  </thead>\n",
       "  <tbody>\n",
       "    <tr>\n",
       "      <th>320</th>\n",
       "      <td>-0.141869</td>\n",
       "      <td>0.006151</td>\n",
       "      <td>0.009227</td>\n",
       "      <td>-0.004614</td>\n",
       "      <td>-0.161476</td>\n",
       "      <td>-0.133506</td>\n",
       "      <td>-0.140427</td>\n",
       "      <td>0.312796</td>\n",
       "      <td>0.306902</td>\n",
       "      <td>0.046323</td>\n",
       "      <td>...</td>\n",
       "      <td>-0.072614</td>\n",
       "      <td>0.080083</td>\n",
       "      <td>0.141365</td>\n",
       "      <td>0.226737</td>\n",
       "      <td>-0.180771</td>\n",
       "      <td>-0.027350</td>\n",
       "      <td>0.143312</td>\n",
       "      <td>0.228186</td>\n",
       "      <td>-0.179630</td>\n",
       "      <td>-0.027677</td>\n",
       "    </tr>\n",
       "    <tr>\n",
       "      <th>321</th>\n",
       "      <td>-0.124567</td>\n",
       "      <td>0.004998</td>\n",
       "      <td>0.009612</td>\n",
       "      <td>0.008651</td>\n",
       "      <td>-0.153691</td>\n",
       "      <td>-0.148789</td>\n",
       "      <td>-0.129469</td>\n",
       "      <td>0.312996</td>\n",
       "      <td>0.306902</td>\n",
       "      <td>0.049712</td>\n",
       "      <td>...</td>\n",
       "      <td>-0.116183</td>\n",
       "      <td>0.052282</td>\n",
       "      <td>-0.028383</td>\n",
       "      <td>0.184300</td>\n",
       "      <td>-0.180771</td>\n",
       "      <td>-0.006103</td>\n",
       "      <td>-0.025794</td>\n",
       "      <td>0.185909</td>\n",
       "      <td>-0.179630</td>\n",
       "      <td>-0.005890</td>\n",
       "    </tr>\n",
       "    <tr>\n",
       "      <th>322</th>\n",
       "      <td>-0.104960</td>\n",
       "      <td>0.012303</td>\n",
       "      <td>0.002691</td>\n",
       "      <td>0.005190</td>\n",
       "      <td>-0.145617</td>\n",
       "      <td>-0.155709</td>\n",
       "      <td>-0.126586</td>\n",
       "      <td>0.313939</td>\n",
       "      <td>0.306902</td>\n",
       "      <td>0.127465</td>\n",
       "      <td>...</td>\n",
       "      <td>-0.184647</td>\n",
       "      <td>0.029876</td>\n",
       "      <td>-0.141916</td>\n",
       "      <td>0.075416</td>\n",
       "      <td>-0.180771</td>\n",
       "      <td>0.055756</td>\n",
       "      <td>-0.141782</td>\n",
       "      <td>0.077532</td>\n",
       "      <td>-0.179630</td>\n",
       "      <td>0.056997</td>\n",
       "    </tr>\n",
       "    <tr>\n",
       "      <th>323</th>\n",
       "      <td>-0.122261</td>\n",
       "      <td>0.016532</td>\n",
       "      <td>-0.007305</td>\n",
       "      <td>0.003460</td>\n",
       "      <td>-0.131488</td>\n",
       "      <td>-0.158593</td>\n",
       "      <td>-0.129758</td>\n",
       "      <td>0.315006</td>\n",
       "      <td>0.420707</td>\n",
       "      <td>0.155916</td>\n",
       "      <td>...</td>\n",
       "      <td>-0.184647</td>\n",
       "      <td>0.019087</td>\n",
       "      <td>-0.141916</td>\n",
       "      <td>0.114309</td>\n",
       "      <td>-0.180771</td>\n",
       "      <td>0.095254</td>\n",
       "      <td>-0.141782</td>\n",
       "      <td>0.115891</td>\n",
       "      <td>-0.179630</td>\n",
       "      <td>0.096737</td>\n",
       "    </tr>\n",
       "    <tr>\n",
       "      <th>324</th>\n",
       "      <td>-0.138408</td>\n",
       "      <td>0.006536</td>\n",
       "      <td>-0.010381</td>\n",
       "      <td>-0.017301</td>\n",
       "      <td>-0.123414</td>\n",
       "      <td>-0.161476</td>\n",
       "      <td>-0.133506</td>\n",
       "      <td>0.316072</td>\n",
       "      <td>0.420707</td>\n",
       "      <td>0.139071</td>\n",
       "      <td>...</td>\n",
       "      <td>-0.184647</td>\n",
       "      <td>-0.079668</td>\n",
       "      <td>-0.141916</td>\n",
       "      <td>0.058524</td>\n",
       "      <td>-0.033744</td>\n",
       "      <td>0.174641</td>\n",
       "      <td>-0.141782</td>\n",
       "      <td>0.059241</td>\n",
       "      <td>-0.026822</td>\n",
       "      <td>0.177184</td>\n",
       "    </tr>\n",
       "  </tbody>\n",
       "</table>\n",
       "<p>5 rows × 38 columns</p>\n",
       "</div>"
      ],
      "text/plain": [
       "          T+0  T-1_T-4_DIFF_MEAN  T-9_T-12_DIFF_MEAN  T-1_T-4_DIFF_DIFF_MEAN  \\\n",
       "320 -0.141869           0.006151            0.009227               -0.004614   \n",
       "321 -0.124567           0.004998            0.009612                0.008651   \n",
       "322 -0.104960           0.012303            0.002691                0.005190   \n",
       "323 -0.122261           0.016532           -0.007305                0.003460   \n",
       "324 -0.138408           0.006536           -0.010381               -0.017301   \n",
       "\n",
       "     T-1_T-4_MEAN  T-5_T-8_MEAN  T-9_T-12_MEAN  POPULATION  RAIN_2_MAX  \\\n",
       "320     -0.161476     -0.133506      -0.140427    0.312796    0.306902   \n",
       "321     -0.153691     -0.148789      -0.129469    0.312996    0.306902   \n",
       "322     -0.145617     -0.155709      -0.126586    0.313939    0.306902   \n",
       "323     -0.131488     -0.158593      -0.129758    0.315006    0.420707   \n",
       "324     -0.123414     -0.161476      -0.133506    0.316072    0.420707   \n",
       "\n",
       "     RAIN_2_MEAN  ...  TEMP_2_-8_-12_MIN  TEMP_2_-8_-12_MEAN  \\\n",
       "320     0.046323  ...          -0.072614            0.080083   \n",
       "321     0.049712  ...          -0.116183            0.052282   \n",
       "322     0.127465  ...          -0.184647            0.029876   \n",
       "323     0.155916  ...          -0.184647            0.019087   \n",
       "324     0.139071  ...          -0.184647           -0.079668   \n",
       "\n",
       "     TEMP_3_-4_-7_MIN  TEMP_3_-4_-7_MEAN  TEMP_3_-8_-12_MIN  \\\n",
       "320          0.141365           0.226737          -0.180771   \n",
       "321         -0.028383           0.184300          -0.180771   \n",
       "322         -0.141916           0.075416          -0.180771   \n",
       "323         -0.141916           0.114309          -0.180771   \n",
       "324         -0.141916           0.058524          -0.033744   \n",
       "\n",
       "     TEMP_3_-8_-12_MEAN  TEMP_4_-4_-7_MIN  TEMP_4_-4_-7_MEAN  \\\n",
       "320           -0.027350          0.143312           0.228186   \n",
       "321           -0.006103         -0.025794           0.185909   \n",
       "322            0.055756         -0.141782           0.077532   \n",
       "323            0.095254         -0.141782           0.115891   \n",
       "324            0.174641         -0.141782           0.059241   \n",
       "\n",
       "     TEMP_4_-8_-12_MIN  TEMP_4_-8_-12_MEAN  \n",
       "320          -0.179630           -0.027677  \n",
       "321          -0.179630           -0.005890  \n",
       "322          -0.179630            0.056997  \n",
       "323          -0.179630            0.096737  \n",
       "324          -0.026822            0.177184  \n",
       "\n",
       "[5 rows x 38 columns]"
      ]
     },
     "execution_count": 8,
     "metadata": {},
     "output_type": "execute_result"
    }
   ],
   "source": [
    "train_dataset.tail()"
   ]
  },
  {
   "cell_type": "code",
   "execution_count": 9,
   "metadata": {},
   "outputs": [
    {
     "data": {
      "text/plain": [
       "0     -0.129181\n",
       "1     -0.115340\n",
       "2     -0.124567\n",
       "3     -0.130334\n",
       "4     -0.140715\n",
       "         ...   \n",
       "320   -0.168397\n",
       "321   -0.155709\n",
       "322   -0.141869\n",
       "323   -0.158016\n",
       "324   -0.155709\n",
       "Name: T+8, Length: 325, dtype: float64"
      ]
     },
     "execution_count": 9,
     "metadata": {},
     "output_type": "execute_result"
    }
   ],
   "source": [
    "train_labels"
   ]
  },
  {
   "cell_type": "markdown",
   "metadata": {},
   "source": [
    "# Building the model\n"
   ]
  },
  {
   "cell_type": "markdown",
   "metadata": {},
   "source": [
    "## Loss\n",
    "This defines the Loss function. \n",
    "Keras only accepts yTrue (T+8) and yPredicted (predicted T+8 by model) as arguments. \n",
    "We cannot implement the MSE(yPredicted + Persistence, yTrue) as the Loss like autocaffe. "
   ]
  },
  {
   "cell_type": "code",
   "execution_count": 10,
   "metadata": {},
   "outputs": [],
   "source": [
    "# custom RMSE? \n",
    "def customLoss(yTrue,yPred):\n",
    "    return keras.backend.sqrt(keras.backend.mean(keras.backend.square(yPred - yTrue))) \n"
   ]
  },
  {
   "cell_type": "markdown",
   "metadata": {},
   "source": [
    "## Model Network Definition\n",
    "This section is the model building. \n",
    "This is a very naive and simple model. \n",
    "Suggestions: \n",
    "- perhaps we can build an LSTM network from keras docs? I'm not sure how to do it "
   ]
  },
  {
   "cell_type": "code",
   "execution_count": 37,
   "metadata": {},
   "outputs": [],
   "source": [
    "def build_model():\n",
    "  model = keras.Sequential([\n",
    "    layers.Dense(64, activation='sigmoid', input_shape=[len(train_dataset.keys())]),\n",
    "    layers.Dense(48, activation='sigmoid'),\n",
    "    layers.Dense(24, activation='relu'),\n",
    "    layers.Dense(1, activation='linear')\n",
    "  ])\n",
    "\n",
    "  # optimizer = keras.optimizers.Adam(learning_rate=0.0001, beta_1=0.99, beta_2=0.999, epsilon=0, amsgrad=False)\n",
    "  \n",
    "    \n",
    "  model.compile(loss=customLoss,\n",
    "                optimizer='Adam',\n",
    "                metrics=['mae', 'mse'])\n",
    "  return model"
   ]
  },
  {
   "cell_type": "markdown",
   "metadata": {},
   "source": [
    "Uncomment below to get early stopping, although I just observe the test loss graph and adjust the EPOCH accordingly"
   ]
  },
  {
   "cell_type": "code",
   "execution_count": 38,
   "metadata": {},
   "outputs": [],
   "source": [
    "model = build_model()\n",
    "\n",
    "# The patience parameter is the amount of epochs to check for improvement\n",
    "# early_stop = keras.callbacks.EarlyStopping(monitor='val_loss', patience=50)\n",
    "\n",
    "# early_history = model.fit(normed_train_data, train_labels, \n",
    "#                    epochs=EPOCHS, validation_split = 0.2, verbose=0, \n",
    "#                    callbacks=[early_stop, tfdocs.modeling.EpochDots()])"
   ]
  },
  {
   "cell_type": "markdown",
   "metadata": {},
   "source": [
    "## Early Model Check \n",
    "This segment checks if model can be trained on a sequence of 10 instances - to see if the model is functional without running the full training. "
   ]
  },
  {
   "cell_type": "code",
   "execution_count": 39,
   "metadata": {},
   "outputs": [
    {
     "name": "stdout",
     "output_type": "stream",
     "text": [
      "WARNING:tensorflow:Falling back from v2 loop because of error: Failed to find data adapter that can handle input: <class 'pandas.core.frame.DataFrame'>, <class 'NoneType'>\n"
     ]
    },
    {
     "data": {
      "text/plain": [
       "array([[0.31717172],\n",
       "       [0.314717  ],\n",
       "       [0.31479815],\n",
       "       [0.31945243],\n",
       "       [0.3193472 ],\n",
       "       [0.31732133],\n",
       "       [0.3135005 ],\n",
       "       [0.33237946],\n",
       "       [0.32971108],\n",
       "       [0.33227757]], dtype=float32)"
      ]
     },
     "execution_count": 39,
     "metadata": {},
     "output_type": "execute_result"
    }
   ],
   "source": [
    "# testing out the model\n",
    "\n",
    "example_batch = normed_train_data[:10]\n",
    "example_result = model.predict(example_batch)\n",
    "    \n",
    "example_result    "
   ]
  },
  {
   "cell_type": "markdown",
   "metadata": {},
   "source": [
    "# Actual Training"
   ]
  },
  {
   "cell_type": "code",
   "execution_count": null,
   "metadata": {
    "scrolled": false
   },
   "outputs": [
    {
     "name": "stdout",
     "output_type": "stream",
     "text": [
      "WARNING:tensorflow:Falling back from v2 loop because of error: Failed to find data adapter that can handle input: <class 'pandas.core.frame.DataFrame'>, <class 'NoneType'>\n",
      "\n",
      "Epoch: 0, loss:0.2262,  mae:0.1809,  mse:0.0530,  val_loss:0.1944,  val_mae:0.1938,  val_mse:0.0378,  \n",
      "....................................................................................................\n",
      "Epoch: 100, loss:0.1316,  mae:0.0983,  mse:0.0177,  val_loss:0.0670,  val_mae:0.0551,  val_mse:0.0045,  \n",
      "....................................................................................................\n",
      "Epoch: 200, loss:0.1011,  mae:0.0751,  mse:0.0105,  val_loss:0.0487,  val_mae:0.0388,  val_mse:0.0024,  \n",
      "....................................................................................................\n",
      "Epoch: 300, loss:0.0882,  mae:0.0656,  mse:0.0079,  val_loss:0.0478,  val_mae:0.0411,  val_mse:0.0024,  \n",
      "........................................................."
     ]
    }
   ],
   "source": [
    "EPOCHS = 500 # this sets how many repeats to train sequentially \n",
    "\n",
    "history = model.fit(normed_train_data, train_labels,\n",
    "  epochs=EPOCHS, validation_split = 0.15, verbose=0,\n",
    "  # callbacks=[early_stop, tfdocs.modeling.EpochDots()]) # this section includes the early stop \n",
    "    callbacks=[tfdocs.modeling.EpochDots()])\n"
   ]
  },
  {
   "cell_type": "code",
   "execution_count": null,
   "metadata": {},
   "outputs": [],
   "source": [
    "hist = pd.DataFrame(history.history)\n",
    "hist['epoch'] = history.epoch\n",
    "hist.tail()"
   ]
  },
  {
   "cell_type": "code",
   "execution_count": null,
   "metadata": {},
   "outputs": [],
   "source": [
    "plotter = tfdocs.plots.HistoryPlotter(smoothing_std=2)"
   ]
  },
  {
   "cell_type": "markdown",
   "metadata": {},
   "source": [
    "# Test Loss Graph"
   ]
  },
  {
   "cell_type": "code",
   "execution_count": null,
   "metadata": {},
   "outputs": [],
   "source": [
    "plotter.plot({'Basic': history}, metric = \"mse\")\n",
    "plt.ylim([0, 0.04])\n",
    "plt.ylabel('MSE [T+8^2]')"
   ]
  },
  {
   "cell_type": "markdown",
   "metadata": {},
   "source": [
    "# Results"
   ]
  },
  {
   "cell_type": "code",
   "execution_count": null,
   "metadata": {},
   "outputs": [],
   "source": [
    "loss, mae, mse = model.evaluate(normed_test_data, test_labels, verbose=2)\n",
    "\n",
    "print(\"Testing set MSE: {:5.10f} T+8\".format(mse))"
   ]
  },
  {
   "cell_type": "markdown",
   "metadata": {},
   "source": [
    "# Making Predictions"
   ]
  },
  {
   "cell_type": "markdown",
   "metadata": {},
   "source": [
    "## scatter plot to test predictions"
   ]
  },
  {
   "cell_type": "code",
   "execution_count": null,
   "metadata": {},
   "outputs": [],
   "source": [
    "test_predictions = model.predict(normed_test_data).flatten()\n",
    "\n",
    "a = plt.axes(aspect='equal')\n",
    "plt.scatter(test_labels, test_predictions)\n",
    "plt.xlabel('True Values [T+8]')\n",
    "plt.ylabel('Predictions [T+8]')\n",
    "lims = [-0.2, 0.8]\n",
    "plt.xlim(lims)\n",
    "plt.ylim(lims)\n",
    "_ = plt.plot(lims, lims)\n"
   ]
  },
  {
   "cell_type": "markdown",
   "metadata": {},
   "source": [
    "## Actual (blue) vs Model (orange) on training data "
   ]
  },
  {
   "cell_type": "code",
   "execution_count": null,
   "metadata": {},
   "outputs": [],
   "source": [
    "plt.plot(train_labels)\n",
    "plt.plot(model.predict(normed_train_data).flatten())"
   ]
  },
  {
   "cell_type": "markdown",
   "metadata": {},
   "source": [
    "## Actual (blue) vs Model (orange) on test data"
   ]
  },
  {
   "cell_type": "code",
   "execution_count": null,
   "metadata": {},
   "outputs": [],
   "source": [
    "plt.plot(test_labels)\n",
    "plt.plot(test_predictions)"
   ]
  },
  {
   "cell_type": "code",
   "execution_count": null,
   "metadata": {},
   "outputs": [],
   "source": [
    "error = test_predictions - test_labels\n",
    "plt.hist(error, bins = 25)\n",
    "plt.xlabel(\"Prediction Error [T=8]\")\n",
    "_ = plt.ylabel(\"Count\")"
   ]
  },
  {
   "cell_type": "markdown",
   "metadata": {},
   "source": [
    "## Lagged Correlation plot"
   ]
  },
  {
   "cell_type": "code",
   "execution_count": null,
   "metadata": {},
   "outputs": [],
   "source": [
    "plt.acorr(test_predictions)"
   ]
  }
 ],
 "metadata": {
  "kernelspec": {
   "display_name": "Python [conda env:tfdeeplearning2] *",
   "language": "python",
   "name": "conda-env-tfdeeplearning2-py"
  },
  "language_info": {
   "codemirror_mode": {
    "name": "ipython",
    "version": 3
   },
   "file_extension": ".py",
   "mimetype": "text/x-python",
   "name": "python",
   "nbconvert_exporter": "python",
   "pygments_lexer": "ipython3",
   "version": "3.7.6"
  }
 },
 "nbformat": 4,
 "nbformat_minor": 4
}
