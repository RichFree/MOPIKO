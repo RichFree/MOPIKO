{
 "cells": [
  {
   "cell_type": "markdown",
   "metadata": {},
   "source": [
    "# Just Run All! "
   ]
  },
  {
   "cell_type": "code",
   "execution_count": 344,
   "metadata": {},
   "outputs": [],
   "source": [
    "from __future__ import absolute_import, division, print_function, unicode_literals\n",
    "\n",
    "import pathlib\n",
    "\n",
    "import matplotlib.pyplot as plt\n",
    "import numpy as np\n",
    "import pandas as pd\n",
    "import seaborn as sns"
   ]
  },
  {
   "cell_type": "code",
   "execution_count": 345,
   "metadata": {},
   "outputs": [
    {
     "name": "stdout",
     "output_type": "stream",
     "text": [
      "2.0.0\n"
     ]
    }
   ],
   "source": [
    "import tensorflow as tf\n",
    "\n",
    "from tensorflow import keras\n",
    "from tensorflow.keras import layers\n",
    "\n",
    "print(tf.__version__)"
   ]
  },
  {
   "cell_type": "code",
   "execution_count": 346,
   "metadata": {},
   "outputs": [],
   "source": [
    "import tensorflow_docs as tfdocs\n",
    "import tensorflow_docs.plots\n",
    "import tensorflow_docs.modeling"
   ]
  },
  {
   "cell_type": "markdown",
   "metadata": {},
   "source": [
    "# Import data\n",
    "Note: please put train.csv and test.csv into the same directory as this iPython file\n",
    "\n",
    "Suggestion: \n",
    "\n",
    "Perhaps can use scikit learn to port over our data pre-processing into python? "
   ]
  },
  {
   "cell_type": "code",
   "execution_count": 347,
   "metadata": {},
   "outputs": [],
   "source": [
    "train_dataset = pd.read_csv('train.csv')\n",
    "test_dataset = pd.read_csv('test.csv')"
   ]
  },
  {
   "cell_type": "code",
   "execution_count": 348,
   "metadata": {
    "scrolled": true
   },
   "outputs": [
    {
     "data": {
      "text/html": [
       "<div>\n",
       "<style scoped>\n",
       "    .dataframe tbody tr th:only-of-type {\n",
       "        vertical-align: middle;\n",
       "    }\n",
       "\n",
       "    .dataframe tbody tr th {\n",
       "        vertical-align: top;\n",
       "    }\n",
       "\n",
       "    .dataframe thead th {\n",
       "        text-align: right;\n",
       "    }\n",
       "</style>\n",
       "<table border=\"1\" class=\"dataframe\">\n",
       "  <thead>\n",
       "    <tr style=\"text-align: right;\">\n",
       "      <th></th>\n",
       "      <th>T+8</th>\n",
       "      <th>T+0</th>\n",
       "      <th>T-1_T-4_DIFF_MEAN</th>\n",
       "      <th>T-9_T-12_DIFF_MEAN</th>\n",
       "      <th>T-1_T-4_DIFF_DIFF_MEAN</th>\n",
       "      <th>T-1_T-4_MEAN</th>\n",
       "      <th>T-5_T-8_MEAN</th>\n",
       "      <th>T-9_T-12_MEAN</th>\n",
       "      <th>POPULATION</th>\n",
       "      <th>RAIN_2_MAX</th>\n",
       "      <th>...</th>\n",
       "      <th>TEMP_2_-8_-12_MIN</th>\n",
       "      <th>TEMP_2_-8_-12_MEAN</th>\n",
       "      <th>TEMP_3_-4_-7_MIN</th>\n",
       "      <th>TEMP_3_-4_-7_MEAN</th>\n",
       "      <th>TEMP_3_-8_-12_MIN</th>\n",
       "      <th>TEMP_3_-8_-12_MEAN</th>\n",
       "      <th>TEMP_4_-4_-7_MIN</th>\n",
       "      <th>TEMP_4_-4_-7_MEAN</th>\n",
       "      <th>TEMP_4_-8_-12_MIN</th>\n",
       "      <th>TEMP_4_-8_-12_MEAN</th>\n",
       "    </tr>\n",
       "  </thead>\n",
       "  <tbody>\n",
       "    <tr>\n",
       "      <th>63</th>\n",
       "      <td>0.078431</td>\n",
       "      <td>0.276817</td>\n",
       "      <td>-0.047674</td>\n",
       "      <td>0.037293</td>\n",
       "      <td>0.016724</td>\n",
       "      <td>0.411476</td>\n",
       "      <td>0.522780</td>\n",
       "      <td>0.317474</td>\n",
       "      <td>0.459577</td>\n",
       "      <td>-0.092851</td>\n",
       "      <td>...</td>\n",
       "      <td>-0.018672</td>\n",
       "      <td>0.107469</td>\n",
       "      <td>-0.189234</td>\n",
       "      <td>-0.073322</td>\n",
       "      <td>-0.151276</td>\n",
       "      <td>0.016164</td>\n",
       "      <td>-0.187210</td>\n",
       "      <td>-0.071743</td>\n",
       "      <td>-0.152367</td>\n",
       "      <td>0.013747</td>\n",
       "    </tr>\n",
       "    <tr>\n",
       "      <th>64</th>\n",
       "      <td>0.154556</td>\n",
       "      <td>0.179931</td>\n",
       "      <td>-0.041907</td>\n",
       "      <td>0.048443</td>\n",
       "      <td>-0.036332</td>\n",
       "      <td>0.357843</td>\n",
       "      <td>0.524798</td>\n",
       "      <td>0.373126</td>\n",
       "      <td>0.462197</td>\n",
       "      <td>-0.013969</td>\n",
       "      <td>...</td>\n",
       "      <td>0.029046</td>\n",
       "      <td>0.141494</td>\n",
       "      <td>-0.189234</td>\n",
       "      <td>-0.140098</td>\n",
       "      <td>-0.151276</td>\n",
       "      <td>-0.020677</td>\n",
       "      <td>-0.187210</td>\n",
       "      <td>-0.137908</td>\n",
       "      <td>-0.152367</td>\n",
       "      <td>-0.022056</td>\n",
       "    </tr>\n",
       "    <tr>\n",
       "      <th>65</th>\n",
       "      <td>0.170704</td>\n",
       "      <td>0.166090</td>\n",
       "      <td>-0.074587</td>\n",
       "      <td>0.088812</td>\n",
       "      <td>-0.020761</td>\n",
       "      <td>0.302191</td>\n",
       "      <td>0.484141</td>\n",
       "      <td>0.429931</td>\n",
       "      <td>0.464816</td>\n",
       "      <td>-0.013969</td>\n",
       "      <td>...</td>\n",
       "      <td>0.029046</td>\n",
       "      <td>0.146888</td>\n",
       "      <td>-0.189234</td>\n",
       "      <td>-0.145640</td>\n",
       "      <td>-0.151276</td>\n",
       "      <td>-0.071534</td>\n",
       "      <td>-0.187210</td>\n",
       "      <td>-0.143529</td>\n",
       "      <td>-0.152367</td>\n",
       "      <td>-0.071483</td>\n",
       "    </tr>\n",
       "    <tr>\n",
       "      <th>66</th>\n",
       "      <td>0.229527</td>\n",
       "      <td>0.146482</td>\n",
       "      <td>-0.060746</td>\n",
       "      <td>0.057670</td>\n",
       "      <td>0.028835</td>\n",
       "      <td>0.242791</td>\n",
       "      <td>0.448674</td>\n",
       "      <td>0.491638</td>\n",
       "      <td>0.467436</td>\n",
       "      <td>-0.013969</td>\n",
       "      <td>...</td>\n",
       "      <td>0.101660</td>\n",
       "      <td>0.161411</td>\n",
       "      <td>-0.189234</td>\n",
       "      <td>-0.180773</td>\n",
       "      <td>-0.151276</td>\n",
       "      <td>-0.073597</td>\n",
       "      <td>-0.187210</td>\n",
       "      <td>-0.178480</td>\n",
       "      <td>-0.152367</td>\n",
       "      <td>-0.072224</td>\n",
       "    </tr>\n",
       "    <tr>\n",
       "      <th>67</th>\n",
       "      <td>0.184544</td>\n",
       "      <td>0.100346</td>\n",
       "      <td>-0.043445</td>\n",
       "      <td>0.004614</td>\n",
       "      <td>0.038639</td>\n",
       "      <td>0.192330</td>\n",
       "      <td>0.411476</td>\n",
       "      <td>0.522780</td>\n",
       "      <td>0.470055</td>\n",
       "      <td>0.142564</td>\n",
       "      <td>...</td>\n",
       "      <td>0.101660</td>\n",
       "      <td>0.183402</td>\n",
       "      <td>-0.183506</td>\n",
       "      <td>-0.158454</td>\n",
       "      <td>-0.189234</td>\n",
       "      <td>-0.088913</td>\n",
       "      <td>-0.181276</td>\n",
       "      <td>-0.156429</td>\n",
       "      <td>-0.187210</td>\n",
       "      <td>-0.087868</td>\n",
       "    </tr>\n",
       "  </tbody>\n",
       "</table>\n",
       "<p>5 rows × 39 columns</p>\n",
       "</div>"
      ],
      "text/plain": [
       "         T+8       T+0  T-1_T-4_DIFF_MEAN  T-9_T-12_DIFF_MEAN  \\\n",
       "63  0.078431  0.276817          -0.047674            0.037293   \n",
       "64  0.154556  0.179931          -0.041907            0.048443   \n",
       "65  0.170704  0.166090          -0.074587            0.088812   \n",
       "66  0.229527  0.146482          -0.060746            0.057670   \n",
       "67  0.184544  0.100346          -0.043445            0.004614   \n",
       "\n",
       "    T-1_T-4_DIFF_DIFF_MEAN  T-1_T-4_MEAN  T-5_T-8_MEAN  T-9_T-12_MEAN  \\\n",
       "63                0.016724      0.411476      0.522780       0.317474   \n",
       "64               -0.036332      0.357843      0.524798       0.373126   \n",
       "65               -0.020761      0.302191      0.484141       0.429931   \n",
       "66                0.028835      0.242791      0.448674       0.491638   \n",
       "67                0.038639      0.192330      0.411476       0.522780   \n",
       "\n",
       "    POPULATION  RAIN_2_MAX  ...  TEMP_2_-8_-12_MIN  TEMP_2_-8_-12_MEAN  \\\n",
       "63    0.459577   -0.092851  ...          -0.018672            0.107469   \n",
       "64    0.462197   -0.013969  ...           0.029046            0.141494   \n",
       "65    0.464816   -0.013969  ...           0.029046            0.146888   \n",
       "66    0.467436   -0.013969  ...           0.101660            0.161411   \n",
       "67    0.470055    0.142564  ...           0.101660            0.183402   \n",
       "\n",
       "    TEMP_3_-4_-7_MIN  TEMP_3_-4_-7_MEAN  TEMP_3_-8_-12_MIN  \\\n",
       "63         -0.189234          -0.073322          -0.151276   \n",
       "64         -0.189234          -0.140098          -0.151276   \n",
       "65         -0.189234          -0.145640          -0.151276   \n",
       "66         -0.189234          -0.180773          -0.151276   \n",
       "67         -0.183506          -0.158454          -0.189234   \n",
       "\n",
       "    TEMP_3_-8_-12_MEAN  TEMP_4_-4_-7_MIN  TEMP_4_-4_-7_MEAN  \\\n",
       "63            0.016164         -0.187210          -0.071743   \n",
       "64           -0.020677         -0.187210          -0.137908   \n",
       "65           -0.071534         -0.187210          -0.143529   \n",
       "66           -0.073597         -0.187210          -0.178480   \n",
       "67           -0.088913         -0.181276          -0.156429   \n",
       "\n",
       "    TEMP_4_-8_-12_MIN  TEMP_4_-8_-12_MEAN  \n",
       "63          -0.152367            0.013747  \n",
       "64          -0.152367           -0.022056  \n",
       "65          -0.152367           -0.071483  \n",
       "66          -0.152367           -0.072224  \n",
       "67          -0.187210           -0.087868  \n",
       "\n",
       "[5 rows x 39 columns]"
      ]
     },
     "execution_count": 348,
     "metadata": {},
     "output_type": "execute_result"
    }
   ],
   "source": [
    "train_dataset.tail()"
   ]
  },
  {
   "cell_type": "code",
   "execution_count": 349,
   "metadata": {
    "scrolled": true
   },
   "outputs": [],
   "source": [
    "# split features from labels \n",
    "# label = T=8\n",
    "train_labels = train_dataset.pop('T+8')\n",
    "test_labels = test_dataset.pop('T+8')"
   ]
  },
  {
   "cell_type": "code",
   "execution_count": 350,
   "metadata": {},
   "outputs": [],
   "source": [
    "#def norm(x):\n",
    "#  return (x - train_stats['mean']) / train_stats['std']\n",
    "#normed_train_data = norm(train_dataset)\n",
    "#normed_test_data = norm(test_dataset)\n",
    "\n",
    "# note that this data is cleaned by MOPIKO, so it's alr normalized\n",
    "normed_train_data = train_dataset\n",
    "normed_test_data = test_dataset"
   ]
  },
  {
   "cell_type": "code",
   "execution_count": 351,
   "metadata": {
    "scrolled": false
   },
   "outputs": [
    {
     "data": {
      "text/html": [
       "<div>\n",
       "<style scoped>\n",
       "    .dataframe tbody tr th:only-of-type {\n",
       "        vertical-align: middle;\n",
       "    }\n",
       "\n",
       "    .dataframe tbody tr th {\n",
       "        vertical-align: top;\n",
       "    }\n",
       "\n",
       "    .dataframe thead th {\n",
       "        text-align: right;\n",
       "    }\n",
       "</style>\n",
       "<table border=\"1\" class=\"dataframe\">\n",
       "  <thead>\n",
       "    <tr style=\"text-align: right;\">\n",
       "      <th></th>\n",
       "      <th>T+0</th>\n",
       "      <th>T-1_T-4_DIFF_MEAN</th>\n",
       "      <th>T-9_T-12_DIFF_MEAN</th>\n",
       "      <th>T-1_T-4_DIFF_DIFF_MEAN</th>\n",
       "      <th>T-1_T-4_MEAN</th>\n",
       "      <th>T-5_T-8_MEAN</th>\n",
       "      <th>T-9_T-12_MEAN</th>\n",
       "      <th>POPULATION</th>\n",
       "      <th>RAIN_2_MAX</th>\n",
       "      <th>RAIN_2_MEAN</th>\n",
       "      <th>...</th>\n",
       "      <th>TEMP_2_-8_-12_MIN</th>\n",
       "      <th>TEMP_2_-8_-12_MEAN</th>\n",
       "      <th>TEMP_3_-4_-7_MIN</th>\n",
       "      <th>TEMP_3_-4_-7_MEAN</th>\n",
       "      <th>TEMP_3_-8_-12_MIN</th>\n",
       "      <th>TEMP_3_-8_-12_MEAN</th>\n",
       "      <th>TEMP_4_-4_-7_MIN</th>\n",
       "      <th>TEMP_4_-4_-7_MEAN</th>\n",
       "      <th>TEMP_4_-8_-12_MIN</th>\n",
       "      <th>TEMP_4_-8_-12_MEAN</th>\n",
       "    </tr>\n",
       "  </thead>\n",
       "  <tbody>\n",
       "    <tr>\n",
       "      <th>320</th>\n",
       "      <td>-0.141869</td>\n",
       "      <td>0.006151</td>\n",
       "      <td>0.009227</td>\n",
       "      <td>-0.004614</td>\n",
       "      <td>-0.161476</td>\n",
       "      <td>-0.133506</td>\n",
       "      <td>-0.140427</td>\n",
       "      <td>0.312796</td>\n",
       "      <td>0.306902</td>\n",
       "      <td>0.046323</td>\n",
       "      <td>...</td>\n",
       "      <td>-0.072614</td>\n",
       "      <td>0.080083</td>\n",
       "      <td>0.141365</td>\n",
       "      <td>0.226737</td>\n",
       "      <td>-0.180771</td>\n",
       "      <td>-0.027350</td>\n",
       "      <td>0.143312</td>\n",
       "      <td>0.228186</td>\n",
       "      <td>-0.179630</td>\n",
       "      <td>-0.027677</td>\n",
       "    </tr>\n",
       "    <tr>\n",
       "      <th>321</th>\n",
       "      <td>-0.124567</td>\n",
       "      <td>0.004998</td>\n",
       "      <td>0.009612</td>\n",
       "      <td>0.008651</td>\n",
       "      <td>-0.153691</td>\n",
       "      <td>-0.148789</td>\n",
       "      <td>-0.129469</td>\n",
       "      <td>0.312996</td>\n",
       "      <td>0.306902</td>\n",
       "      <td>0.049712</td>\n",
       "      <td>...</td>\n",
       "      <td>-0.116183</td>\n",
       "      <td>0.052282</td>\n",
       "      <td>-0.028383</td>\n",
       "      <td>0.184300</td>\n",
       "      <td>-0.180771</td>\n",
       "      <td>-0.006103</td>\n",
       "      <td>-0.025794</td>\n",
       "      <td>0.185909</td>\n",
       "      <td>-0.179630</td>\n",
       "      <td>-0.005890</td>\n",
       "    </tr>\n",
       "    <tr>\n",
       "      <th>322</th>\n",
       "      <td>-0.104960</td>\n",
       "      <td>0.012303</td>\n",
       "      <td>0.002691</td>\n",
       "      <td>0.005190</td>\n",
       "      <td>-0.145617</td>\n",
       "      <td>-0.155709</td>\n",
       "      <td>-0.126586</td>\n",
       "      <td>0.313939</td>\n",
       "      <td>0.306902</td>\n",
       "      <td>0.127465</td>\n",
       "      <td>...</td>\n",
       "      <td>-0.184647</td>\n",
       "      <td>0.029876</td>\n",
       "      <td>-0.141916</td>\n",
       "      <td>0.075416</td>\n",
       "      <td>-0.180771</td>\n",
       "      <td>0.055756</td>\n",
       "      <td>-0.141782</td>\n",
       "      <td>0.077532</td>\n",
       "      <td>-0.179630</td>\n",
       "      <td>0.056997</td>\n",
       "    </tr>\n",
       "    <tr>\n",
       "      <th>323</th>\n",
       "      <td>-0.122261</td>\n",
       "      <td>0.016532</td>\n",
       "      <td>-0.007305</td>\n",
       "      <td>0.003460</td>\n",
       "      <td>-0.131488</td>\n",
       "      <td>-0.158593</td>\n",
       "      <td>-0.129758</td>\n",
       "      <td>0.315006</td>\n",
       "      <td>0.420707</td>\n",
       "      <td>0.155916</td>\n",
       "      <td>...</td>\n",
       "      <td>-0.184647</td>\n",
       "      <td>0.019087</td>\n",
       "      <td>-0.141916</td>\n",
       "      <td>0.114309</td>\n",
       "      <td>-0.180771</td>\n",
       "      <td>0.095254</td>\n",
       "      <td>-0.141782</td>\n",
       "      <td>0.115891</td>\n",
       "      <td>-0.179630</td>\n",
       "      <td>0.096737</td>\n",
       "    </tr>\n",
       "    <tr>\n",
       "      <th>324</th>\n",
       "      <td>-0.138408</td>\n",
       "      <td>0.006536</td>\n",
       "      <td>-0.010381</td>\n",
       "      <td>-0.017301</td>\n",
       "      <td>-0.123414</td>\n",
       "      <td>-0.161476</td>\n",
       "      <td>-0.133506</td>\n",
       "      <td>0.316072</td>\n",
       "      <td>0.420707</td>\n",
       "      <td>0.139071</td>\n",
       "      <td>...</td>\n",
       "      <td>-0.184647</td>\n",
       "      <td>-0.079668</td>\n",
       "      <td>-0.141916</td>\n",
       "      <td>0.058524</td>\n",
       "      <td>-0.033744</td>\n",
       "      <td>0.174641</td>\n",
       "      <td>-0.141782</td>\n",
       "      <td>0.059241</td>\n",
       "      <td>-0.026822</td>\n",
       "      <td>0.177184</td>\n",
       "    </tr>\n",
       "  </tbody>\n",
       "</table>\n",
       "<p>5 rows × 38 columns</p>\n",
       "</div>"
      ],
      "text/plain": [
       "          T+0  T-1_T-4_DIFF_MEAN  T-9_T-12_DIFF_MEAN  T-1_T-4_DIFF_DIFF_MEAN  \\\n",
       "320 -0.141869           0.006151            0.009227               -0.004614   \n",
       "321 -0.124567           0.004998            0.009612                0.008651   \n",
       "322 -0.104960           0.012303            0.002691                0.005190   \n",
       "323 -0.122261           0.016532           -0.007305                0.003460   \n",
       "324 -0.138408           0.006536           -0.010381               -0.017301   \n",
       "\n",
       "     T-1_T-4_MEAN  T-5_T-8_MEAN  T-9_T-12_MEAN  POPULATION  RAIN_2_MAX  \\\n",
       "320     -0.161476     -0.133506      -0.140427    0.312796    0.306902   \n",
       "321     -0.153691     -0.148789      -0.129469    0.312996    0.306902   \n",
       "322     -0.145617     -0.155709      -0.126586    0.313939    0.306902   \n",
       "323     -0.131488     -0.158593      -0.129758    0.315006    0.420707   \n",
       "324     -0.123414     -0.161476      -0.133506    0.316072    0.420707   \n",
       "\n",
       "     RAIN_2_MEAN  ...  TEMP_2_-8_-12_MIN  TEMP_2_-8_-12_MEAN  \\\n",
       "320     0.046323  ...          -0.072614            0.080083   \n",
       "321     0.049712  ...          -0.116183            0.052282   \n",
       "322     0.127465  ...          -0.184647            0.029876   \n",
       "323     0.155916  ...          -0.184647            0.019087   \n",
       "324     0.139071  ...          -0.184647           -0.079668   \n",
       "\n",
       "     TEMP_3_-4_-7_MIN  TEMP_3_-4_-7_MEAN  TEMP_3_-8_-12_MIN  \\\n",
       "320          0.141365           0.226737          -0.180771   \n",
       "321         -0.028383           0.184300          -0.180771   \n",
       "322         -0.141916           0.075416          -0.180771   \n",
       "323         -0.141916           0.114309          -0.180771   \n",
       "324         -0.141916           0.058524          -0.033744   \n",
       "\n",
       "     TEMP_3_-8_-12_MEAN  TEMP_4_-4_-7_MIN  TEMP_4_-4_-7_MEAN  \\\n",
       "320           -0.027350          0.143312           0.228186   \n",
       "321           -0.006103         -0.025794           0.185909   \n",
       "322            0.055756         -0.141782           0.077532   \n",
       "323            0.095254         -0.141782           0.115891   \n",
       "324            0.174641         -0.141782           0.059241   \n",
       "\n",
       "     TEMP_4_-8_-12_MIN  TEMP_4_-8_-12_MEAN  \n",
       "320          -0.179630           -0.027677  \n",
       "321          -0.179630           -0.005890  \n",
       "322          -0.179630            0.056997  \n",
       "323          -0.179630            0.096737  \n",
       "324          -0.026822            0.177184  \n",
       "\n",
       "[5 rows x 38 columns]"
      ]
     },
     "execution_count": 351,
     "metadata": {},
     "output_type": "execute_result"
    }
   ],
   "source": [
    "train_dataset.tail()"
   ]
  },
  {
   "cell_type": "code",
   "execution_count": 352,
   "metadata": {},
   "outputs": [
    {
     "data": {
      "text/plain": [
       "0     -0.129181\n",
       "1     -0.115340\n",
       "2     -0.124567\n",
       "3     -0.130334\n",
       "4     -0.140715\n",
       "         ...   \n",
       "320   -0.168397\n",
       "321   -0.155709\n",
       "322   -0.141869\n",
       "323   -0.158016\n",
       "324   -0.155709\n",
       "Name: T+8, Length: 325, dtype: float64"
      ]
     },
     "execution_count": 352,
     "metadata": {},
     "output_type": "execute_result"
    }
   ],
   "source": [
    "train_labels"
   ]
  },
  {
   "cell_type": "markdown",
   "metadata": {},
   "source": [
    "# Building the model\n"
   ]
  },
  {
   "cell_type": "markdown",
   "metadata": {},
   "source": [
    "## Loss\n",
    "This defines the Loss function. \n",
    "Keras only accepts yTrue (T+8) and yPredicted (predicted T+8 by model) as arguments. \n",
    "We cannot implement the MSE(yPredicted + Persistence, yTrue) as the Loss like autocaffe. "
   ]
  },
  {
   "cell_type": "code",
   "execution_count": 367,
   "metadata": {},
   "outputs": [],
   "source": [
    "# custom RMSE? \n",
    "def customLoss(yTrue,yPred):\n",
    "    return keras.backend.sqrt(keras.backend.mean(keras.backend.square(yPred - yTrue))) \n"
   ]
  },
  {
   "cell_type": "markdown",
   "metadata": {},
   "source": [
    "## Model Network Definition\n",
    "This section is the model building. \n",
    "This is a very naive and simple model. \n",
    "Suggestions: \n",
    "- perhaps we can build an LSTM network from keras docs? I'm not sure how to do it "
   ]
  },
  {
   "cell_type": "code",
   "execution_count": 776,
   "metadata": {},
   "outputs": [],
   "source": [
    "def build_model():\n",
    "  model = keras.Sequential([\n",
    "    layers.Dense(64, activation='relu', input_shape=[len(train_dataset.keys())]),\n",
    "    layers.Dense(48, activation='relu'),\n",
    "    layers.Dense(24, activation='relu'),\n",
    "    layers.Dense(1, activation='linear')\n",
    "  ])\n",
    "\n",
    "  # optimizer = keras.optimizers.Adam(learning_rate=0.0001, beta_1=0.99, beta_2=0.999, epsilon=0, amsgrad=False)\n",
    "  \n",
    "    \n",
    "  model.compile(loss=customLoss,\n",
    "                optimizer='Adam',\n",
    "                metrics=['mae', 'mse'])\n",
    "  return model"
   ]
  },
  {
   "cell_type": "markdown",
   "metadata": {},
   "source": [
    "Uncomment below to get early stopping, although I just observe the test loss graph and adjust the EPOCH accordingly"
   ]
  },
  {
   "cell_type": "code",
   "execution_count": 777,
   "metadata": {},
   "outputs": [],
   "source": [
    "model = build_model()\n",
    "\n",
    "# The patience parameter is the amount of epochs to check for improvement\n",
    "# early_stop = keras.callbacks.EarlyStopping(monitor='val_loss', patience=50)\n",
    "\n",
    "# early_history = model.fit(normed_train_data, train_labels, \n",
    "#                    epochs=EPOCHS, validation_split = 0.2, verbose=0, \n",
    "#                    callbacks=[early_stop, tfdocs.modeling.EpochDots()])"
   ]
  },
  {
   "cell_type": "markdown",
   "metadata": {},
   "source": [
    "## Early Model Check \n",
    "This segment checks if model can be trained on a sequence of 10 instances - to see if the model is functional without running the full training. "
   ]
  },
  {
   "cell_type": "code",
   "execution_count": 778,
   "metadata": {},
   "outputs": [
    {
     "name": "stdout",
     "output_type": "stream",
     "text": [
      "WARNING:tensorflow:Falling back from v2 loop because of error: Failed to find data adapter that can handle input: <class 'pandas.core.frame.DataFrame'>, <class 'NoneType'>\n"
     ]
    },
    {
     "data": {
      "text/plain": [
       "array([[-0.01904461],\n",
       "       [-0.02352723],\n",
       "       [-0.02338607],\n",
       "       [-0.03416344],\n",
       "       [-0.04600336],\n",
       "       [-0.03192957],\n",
       "       [-0.02202121],\n",
       "       [-0.04624946],\n",
       "       [-0.02190657],\n",
       "       [-0.01753031]], dtype=float32)"
      ]
     },
     "execution_count": 778,
     "metadata": {},
     "output_type": "execute_result"
    }
   ],
   "source": [
    "# testing out the model\n",
    "\n",
    "example_batch = normed_train_data[:10]\n",
    "example_result = model.predict(example_batch)\n",
    "    \n",
    "example_result    "
   ]
  },
  {
   "cell_type": "markdown",
   "metadata": {},
   "source": [
    "# Actual Training"
   ]
  },
  {
   "cell_type": "code",
   "execution_count": 779,
   "metadata": {
    "scrolled": false
   },
   "outputs": [
    {
     "name": "stdout",
     "output_type": "stream",
     "text": [
      "WARNING:tensorflow:Falling back from v2 loop because of error: Failed to find data adapter that can handle input: <class 'pandas.core.frame.DataFrame'>, <class 'NoneType'>\n",
      "\n",
      "Epoch: 0, loss:0.2135,  mae:0.1643,  mse:0.0475,  val_loss:0.1807,  val_mae:0.1777,  val_mse:0.0330,  \n",
      "....................................................................................................\n",
      "Epoch: 100, loss:0.0221,  mae:0.0159,  mse:0.0005,  val_loss:0.0447,  val_mae:0.0375,  val_mse:0.0020,  \n",
      "....................................................................................................\n",
      "Epoch: 200, loss:0.0136,  mae:0.0105,  mse:0.0002,  val_loss:0.0345,  val_mae:0.0278,  val_mse:0.0012,  \n",
      "....................................................................................................\n",
      "Epoch: 300, loss:0.0100,  mae:0.0074,  mse:0.0001,  val_loss:0.0370,  val_mae:0.0299,  val_mse:0.0014,  \n",
      "....................................................................................................\n",
      "Epoch: 400, loss:0.0080,  mae:0.0062,  mse:0.0001,  val_loss:0.0314,  val_mae:0.0235,  val_mse:0.0010,  \n",
      "...................................................................................................."
     ]
    }
   ],
   "source": [
    "EPOCHS = 500 # this sets how many repeats to train sequentially \n",
    "\n",
    "history = model.fit(normed_train_data, train_labels,\n",
    "  epochs=EPOCHS, validation_split = 0.15, verbose=0,\n",
    "  # callbacks=[early_stop, tfdocs.modeling.EpochDots()]) # this section includes the early stop \n",
    "    callbacks=[tfdocs.modeling.EpochDots()])\n"
   ]
  },
  {
   "cell_type": "code",
   "execution_count": 780,
   "metadata": {},
   "outputs": [
    {
     "data": {
      "text/html": [
       "<div>\n",
       "<style scoped>\n",
       "    .dataframe tbody tr th:only-of-type {\n",
       "        vertical-align: middle;\n",
       "    }\n",
       "\n",
       "    .dataframe tbody tr th {\n",
       "        vertical-align: top;\n",
       "    }\n",
       "\n",
       "    .dataframe thead th {\n",
       "        text-align: right;\n",
       "    }\n",
       "</style>\n",
       "<table border=\"1\" class=\"dataframe\">\n",
       "  <thead>\n",
       "    <tr style=\"text-align: right;\">\n",
       "      <th></th>\n",
       "      <th>loss</th>\n",
       "      <th>mae</th>\n",
       "      <th>mse</th>\n",
       "      <th>val_loss</th>\n",
       "      <th>val_mae</th>\n",
       "      <th>val_mse</th>\n",
       "      <th>epoch</th>\n",
       "    </tr>\n",
       "  </thead>\n",
       "  <tbody>\n",
       "    <tr>\n",
       "      <th>495</th>\n",
       "      <td>0.008420</td>\n",
       "      <td>0.006369</td>\n",
       "      <td>0.000074</td>\n",
       "      <td>0.030888</td>\n",
       "      <td>0.023634</td>\n",
       "      <td>0.000956</td>\n",
       "      <td>495</td>\n",
       "    </tr>\n",
       "    <tr>\n",
       "      <th>496</th>\n",
       "      <td>0.008267</td>\n",
       "      <td>0.006518</td>\n",
       "      <td>0.000073</td>\n",
       "      <td>0.026381</td>\n",
       "      <td>0.020231</td>\n",
       "      <td>0.000700</td>\n",
       "      <td>496</td>\n",
       "    </tr>\n",
       "    <tr>\n",
       "      <th>497</th>\n",
       "      <td>0.008692</td>\n",
       "      <td>0.006705</td>\n",
       "      <td>0.000087</td>\n",
       "      <td>0.030748</td>\n",
       "      <td>0.024336</td>\n",
       "      <td>0.000948</td>\n",
       "      <td>497</td>\n",
       "    </tr>\n",
       "    <tr>\n",
       "      <th>498</th>\n",
       "      <td>0.008301</td>\n",
       "      <td>0.006563</td>\n",
       "      <td>0.000074</td>\n",
       "      <td>0.028575</td>\n",
       "      <td>0.022002</td>\n",
       "      <td>0.000819</td>\n",
       "      <td>498</td>\n",
       "    </tr>\n",
       "    <tr>\n",
       "      <th>499</th>\n",
       "      <td>0.012387</td>\n",
       "      <td>0.010435</td>\n",
       "      <td>0.000161</td>\n",
       "      <td>0.028985</td>\n",
       "      <td>0.022340</td>\n",
       "      <td>0.000841</td>\n",
       "      <td>499</td>\n",
       "    </tr>\n",
       "  </tbody>\n",
       "</table>\n",
       "</div>"
      ],
      "text/plain": [
       "         loss       mae       mse  val_loss   val_mae   val_mse  epoch\n",
       "495  0.008420  0.006369  0.000074  0.030888  0.023634  0.000956    495\n",
       "496  0.008267  0.006518  0.000073  0.026381  0.020231  0.000700    496\n",
       "497  0.008692  0.006705  0.000087  0.030748  0.024336  0.000948    497\n",
       "498  0.008301  0.006563  0.000074  0.028575  0.022002  0.000819    498\n",
       "499  0.012387  0.010435  0.000161  0.028985  0.022340  0.000841    499"
      ]
     },
     "execution_count": 780,
     "metadata": {},
     "output_type": "execute_result"
    }
   ],
   "source": [
    "hist = pd.DataFrame(history.history)\n",
    "hist['epoch'] = history.epoch\n",
    "hist.tail()"
   ]
  },
  {
   "cell_type": "code",
   "execution_count": 781,
   "metadata": {},
   "outputs": [],
   "source": [
    "plotter = tfdocs.plots.HistoryPlotter(smoothing_std=2)"
   ]
  },
  {
   "cell_type": "markdown",
   "metadata": {},
   "source": [
    "# Test Loss Graph"
   ]
  },
  {
   "cell_type": "code",
   "execution_count": 782,
   "metadata": {},
   "outputs": [
    {
     "data": {
      "text/plain": [
       "Text(0, 0.5, 'MSE [T+8^2]')"
      ]
     },
     "execution_count": 782,
     "metadata": {},
     "output_type": "execute_result"
    },
    {
     "data": {
      "image/png": "[encoded data removed]",
      "text/plain": [
       "<Figure size 432x288 with 1 Axes>"
      ]
     },
     "metadata": {
      "needs_background": "light"
     },
     "output_type": "display_data"
    }
   ],
   "source": [
    "plotter.plot({'Basic': history}, metric = \"mse\")\n",
    "plt.ylim([0, 0.04])\n",
    "plt.ylabel('MSE [T+8^2]')"
   ]
  },
  {
   "cell_type": "markdown",
   "metadata": {},
   "source": [
    "# Results"
   ]
  },
  {
   "cell_type": "code",
   "execution_count": 783,
   "metadata": {},
   "outputs": [
    {
     "name": "stdout",
     "output_type": "stream",
     "text": [
      "WARNING:tensorflow:Falling back from v2 loop because of error: Failed to find data adapter that can handle input: <class 'pandas.core.frame.DataFrame'>, <class 'NoneType'>\n",
      "68/68 - 0s - loss: 0.1678 - mae: 0.1366 - mse: 0.0303\n",
      "Testing set MSE: 0.0303299706 T+8\n"
     ]
    }
   ],
   "source": [
    "loss, mae, mse = model.evaluate(normed_test_data, test_labels, verbose=2)\n",
    "\n",
    "print(\"Testing set MSE: {:5.10f} T+8\".format(mse))"
   ]
  },
  {
   "cell_type": "markdown",
   "metadata": {},
   "source": [
    "# Making Predictions"
   ]
  },
  {
   "cell_type": "markdown",
   "metadata": {},
   "source": [
    "## scatter plot to test predictions"
   ]
  },
  {
   "cell_type": "code",
   "execution_count": 784,
   "metadata": {},
   "outputs": [
    {
     "name": "stdout",
     "output_type": "stream",
     "text": [
      "WARNING:tensorflow:Falling back from v2 loop because of error: Failed to find data adapter that can handle input: <class 'pandas.core.frame.DataFrame'>, <class 'NoneType'>\n"
     ]
    },
    {
     "data": {
      "image/png": "[encoded data removed]",
      "text/plain": [
       "<Figure size 432x288 with 1 Axes>"
      ]
     },
     "metadata": {
      "needs_background": "light"
     },
     "output_type": "display_data"
    }
   ],
   "source": [
    "test_predictions = model.predict(normed_test_data).flatten()\n",
    "\n",
    "a = plt.axes(aspect='equal')\n",
    "plt.scatter(test_labels, test_predictions)\n",
    "plt.xlabel('True Values [T+8]')\n",
    "plt.ylabel('Predictions [T+8]')\n",
    "lims = [-0.2, 0.8]\n",
    "plt.xlim(lims)\n",
    "plt.ylim(lims)\n",
    "_ = plt.plot(lims, lims)\n"
   ]
  },
  {
   "cell_type": "markdown",
   "metadata": {},
   "source": [
    "## Actual (blue) vs Model (orange) on training data "
   ]
  },
  {
   "cell_type": "code",
   "execution_count": 785,
   "metadata": {},
   "outputs": [
    {
     "name": "stdout",
     "output_type": "stream",
     "text": [
      "WARNING:tensorflow:Falling back from v2 loop because of error: Failed to find data adapter that can handle input: <class 'pandas.core.frame.DataFrame'>, <class 'NoneType'>\n"
     ]
    },
    {
     "data": {
      "text/plain": [
       "[<matplotlib.lines.Line2D at 0x21cf4e2ea08>]"
      ]
     },
     "execution_count": 785,
     "metadata": {},
     "output_type": "execute_result"
    },
    {
     "data": {
      "image/png": "[encoded data removed]",
      "text/plain": [
       "<Figure size 432x288 with 1 Axes>"
      ]
     },
     "metadata": {
      "needs_background": "light"
     },
     "output_type": "display_data"
    }
   ],
   "source": [
    "plt.plot(train_labels)\n",
    "plt.plot(model.predict(normed_train_data).flatten())"
   ]
  },
  {
   "cell_type": "markdown",
   "metadata": {},
   "source": [
    "## Actual (blue) vs Model (orange) on test data"
   ]
  },
  {
   "cell_type": "code",
   "execution_count": 786,
   "metadata": {},
   "outputs": [
    {
     "data": {
      "text/plain": [
       "[<matplotlib.lines.Line2D at 0x21cf72c6a08>]"
      ]
     },
     "execution_count": 786,
     "metadata": {},
     "output_type": "execute_result"
    },
    {
     "data": {
      "image/png": "[encoded data removed]",
      "text/plain": [
       "<Figure size 432x288 with 1 Axes>"
      ]
     },
     "metadata": {
      "needs_background": "light"
     },
     "output_type": "display_data"
    }
   ],
   "source": [
    "plt.plot(test_labels)\n",
    "plt.plot(test_predictions)"
   ]
  },
  {
   "cell_type": "code",
   "execution_count": 787,
   "metadata": {},
   "outputs": [
    {
     "data": {
      "image/png": "[encoded data removed]",
      "text/plain": [
       "<Figure size 432x288 with 1 Axes>"
      ]
     },
     "metadata": {
      "needs_background": "light"
     },
     "output_type": "display_data"
    }
   ],
   "source": [
    "error = test_predictions - test_labels\n",
    "plt.hist(error, bins = 25)\n",
    "plt.xlabel(\"Prediction Error [T=8]\")\n",
    "_ = plt.ylabel(\"Count\")"
   ]
  },
  {
   "cell_type": "markdown",
   "metadata": {},
   "source": [
    "## Lagged Correlation plot"
   ]
  },
  {
   "cell_type": "code",
   "execution_count": 788,
   "metadata": {},
   "outputs": [
    {
     "data": {
      "text/plain": [
       "(array([-10,  -9,  -8,  -7,  -6,  -5,  -4,  -3,  -2,  -1,   0,   1,   2,\n",
       "          3,   4,   5,   6,   7,   8,   9,  10]),\n",
       " array([0.47644195, 0.49647325, 0.5383443 , 0.6135524 , 0.66509366,\n",
       "        0.73394597, 0.7818038 , 0.84523964, 0.89855313, 0.93575495,\n",
       "        1.        , 0.93575495, 0.89855313, 0.84523964, 0.7818038 ,\n",
       "        0.73394597, 0.66509366, 0.6135524 , 0.5383443 , 0.49647325,\n",
       "        0.47644195], dtype=float32),\n",
       " <matplotlib.collections.LineCollection at 0x21cf83ed148>,\n",
       " <matplotlib.lines.Line2D at 0x21cf83c6fc8>)"
      ]
     },
     "execution_count": 788,
     "metadata": {},
     "output_type": "execute_result"
    },
    {
     "data": {
      "image/png": "[encoded data removed]",
      "text/plain": [
       "<Figure size 432x288 with 1 Axes>"
      ]
     },
     "metadata": {
      "needs_background": "light"
     },
     "output_type": "display_data"
    }
   ],
   "source": [
    "plt.acorr(test_predictions)"
   ]
  }
 ],
 "metadata": {
  "kernelspec": {
   "display_name": "Python [conda env:tfdeeplearning3] *",
   "language": "python",
   "name": "conda-env-tfdeeplearning3-py"
  },
  "language_info": {
   "codemirror_mode": {
    "name": "ipython",
    "version": 3
   },
   "file_extension": ".py",
   "mimetype": "text/x-python",
   "name": "python",
   "nbconvert_exporter": "python",
   "pygments_lexer": "ipython3",
   "version": "3.7.6"
  }
 },
 "nbformat": 4,
 "nbformat_minor": 4
}
